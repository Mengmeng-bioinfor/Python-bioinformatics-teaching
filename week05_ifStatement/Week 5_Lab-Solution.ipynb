{
 "cells": [
  {
   "cell_type": "markdown",
   "id": "931ace4e",
   "metadata": {},
   "source": [
    "# Week 5\n",
    "\n",
    "Hopefully you have already opened this document as a Jupyter Notebook and not simply as a pdf. If not, then you need to download the file *Week_3_Lab.ipynb* to an appropriate folder, and open the file.\n",
    "\n",
    "To open the file, if you have already installed ***Anaconda Individual Edition***, then open *Anaconda.Navigator*, from which you can launch *Jupyter Notebook*.\n",
    "\n",
    "(If working in the School of Computing labs, start *Anaconda3 / Anaconda Prompt*, then enter the following command specifying the path to the folder containing the file, and then open the file from the browser.)\n",
    "\n",
    "The Jupyter Notebook App is a tool for creating documents (notebooks) containing both live code and text, as well as visualizations, etc. Various programming languages can be used, but here the focus will be on Python. \n",
    "\n",
    "For more general resources:\n",
    "\n",
    "- Jupyter Notebook - https://jupyter.org/\n",
    "- Anaconda - https://www.anaconda.com/\n",
    "- Python - https://www.python.org/\n",
    "\n",
    "The rest of this notebook is intended as an introduction to key features of Python and Jupyter Notebooks, irrespective of whether you have used Python before or not. It is not intended to be exhaustive, but will cover material that will be relevant in this module. In addition to this material, you are strongly encouarged to develop your knowledge of Python further through the use of other resources such as\n",
    "\n",
    "- The Python tutorial - https://docs.python.org/3/tutorial/\n",
    "\n",
    "Both Python and Jupyter Notebooks are used in various areas, including data science, so it would be well worth your while to develop your skills in this area as much as possible.\n",
    "\n",
    "## Getting started\n",
    "\n",
    "One thing you should do at the outset is to save this noteback as a new notebook, so that you can change it as much as you want, but still go back to the original file if necessary. Go to *File / Make a Copy*. This creates a new notebook called *Week_1_Lab-Copy1* in a file with the same name. You can change the name of the notebook (and the file) by going to *File / Rename* and changing it to *Week_1_Lab_my_version* for example, or by editing the name of the notebook at the top of the page beside the Jupyter symbol (just above the menu).\n",
    "\n",
    "### Cell Types\n",
    "\n",
    "We need to distinguish between different types of cells. This cell is a **Markdown cell**, whereas the next cell below is a **Code cell**. Markdown cells are for formatting text rather than for running code. To see how to format headings, use italics and bold font, for example, you can go into edit mode by double-clicking on a cell. Try it for this cell. To execute the cell (and so produce the formatted text), you can go to *Cell / Run Cells* or use the shortcut *Ctrl-Enter*. (You can find other keyboard shortcuts under the *Help* menu.) Markdown is very useful for mathematical notation such as $\\sqrt{2}$. For further details on Markdown see <a href=\"https://www.datacamp.com/community/tutorials/markdown-in-jupyter-notebook\" >Markdown in Jupyter Notebook</a>.\n",
    "\n",
    "The next cell below is a Code cell. You can also edit and run it as described above, but now it will execute the code and present the output below the cell. "
   ]
  },
  {
   "cell_type": "markdown",
   "id": "d1843037",
   "metadata": {},
   "source": [
    "## Task 1\n",
    "\n",
    "For a given list of DNA sequences, and you want to filter and process them based on their length and composition. You have the following requirements:\n",
    "\n",
    "#### 1.Filter sequences that are longer than 100 base pairs.\n",
    "#### 2.Check if a sequence contains a specific motif, such as \"AGTC.\"\n",
    "#### 3.Classify sequences as either coding or non-coding based on whether they contain a start codon (\"ATG\").\n"
   ]
  },
  {
   "cell_type": "code",
   "execution_count": 1,
   "id": "f2a19799",
   "metadata": {},
   "outputs": [
    {
     "name": "stdout",
     "output_type": "stream",
     "text": [
      "Long Sequences (>100 bp): []\n",
      "Sequences Containing 'AGTC': []\n",
      "Coding Sequences (Containing 'ATG'): ['ATGCGTACGTACGTACTGACTAGCTAGCTA', 'ATGGCTAGCTAGCTAGCTAGCTAGCTA']\n"
     ]
    }
   ],
   "source": [
    "# Sample DNA sequences\n",
    "dna_sequences = [\n",
    "    \"ATGCGTACGTACGTACTGACTAGCTAGCTA\",    # Coding sequence with start codon\n",
    "    \"ACGTACGTACGTACGTACGTACGTACGTACGT\",  # Non-coding sequence\n",
    "    \"ACTGACGTAGCTACGTAACGTAGCTAGCTG\",    # Non-coding sequence\n",
    "    \"ATGGCTAGCTAGCTAGCTAGCTAGCTA\",       # Coding sequence with start codon\n",
    "]\n",
    "\n",
    "# Initialize empty lists for different classifications\n",
    "long_sequences = []\n",
    "motif_containing = []\n",
    "coding_sequences = []\n",
    "\n",
    "# Loop through the DNA sequences and apply nested if statements\n",
    "for sequence in dna_sequences:\n",
    "    if len(sequence) > 100:\n",
    "        long_sequences.append(sequence)\n",
    "    if \"AGTC\" in sequence:\n",
    "        motif_containing.append(sequence)\n",
    "    if \"ATG\" in sequence:\n",
    "        coding_sequences.append(sequence)\n",
    "\n",
    "# Print the results\n",
    "print(\"Long Sequences (>100 bp):\", long_sequences)\n",
    "print(\"Sequences Containing 'AGTC':\", motif_containing)\n",
    "print(\"Coding Sequences (Containing 'ATG'):\", coding_sequences)\n",
    "\n"
   ]
  },
  {
   "cell_type": "markdown",
   "id": "c92b907c",
   "metadata": {},
   "source": [
    "## Task 2 \n",
    "\n",
    "Assume there is a list of tuples, where each tuple represents information about a gene, such as its name, expression level, and mutation status.\n",
    "\n",
    "#### Complete to filter and process this data using nested if statements according to the following pseudocode.\n",
    "\n",
    "1. We initialize two empty lists, high_expression_genes and mutated_genes, to store the results of our analysis.\n",
    "\n",
    "2. We loop through each gene's tuple in gene_data.\n",
    "\n",
    "3. Inside the loop, we first check if the gene has a high expression level (expression level > 20). If it does, we add it to the high_expression_genes list.\n",
    "\n",
    "4. If the gene has a high expression level and is also mutated (mutation_status is \"Mutation\"), we print a message to indicate it's a high-expression mutated gene.\n",
    "\n",
    "5. We then check if the gene is mutated (mutation_status is \"Mutation\"), and if it is, we add it to the mutated_genes list.\n",
    "\n",
    "6. Finally, we display the lists of high-expression genes and mutated genes."
   ]
  },
  {
   "cell_type": "code",
   "execution_count": 2,
   "id": "03e21074",
   "metadata": {},
   "outputs": [
    {
     "name": "stdout",
     "output_type": "stream",
     "text": [
      "High-expression genes: ['GeneB']\n",
      "Mutated genes: ['GeneA', 'GeneC']\n"
     ]
    }
   ],
   "source": [
    "# Sample gene data as tuples: (name, expression_level, mutation_status)\n",
    "gene_data = [\n",
    "    (\"GeneA\", 10, \"Mutation\"),\n",
    "    (\"GeneB\", 25, \"Normal\"),\n",
    "    (\"GeneC\", 5, \"Mutation\"),\n",
    "    (\"GeneD\", 15, \"Normal\"),\n",
    "]\n",
    "\n",
    "# Initialize empty lists to store filtered data\n",
    "high_expression_genes = []\n",
    "mutated_genes = []\n",
    "\n",
    "# Process gene data\n",
    "for gene in gene_data:\n",
    "    name, expression_level, mutation_status = gene\n",
    "    \n",
    "    # Check for high-expression genes (expression level > 20)\n",
    "    if expression_level > 20:\n",
    "        high_expression_genes.append(name)\n",
    "        \n",
    "        # Check for mutated high-expression genes\n",
    "        if mutation_status == \"Mutation\":\n",
    "            print(f\"High-expression mutated gene: {name}\")\n",
    "    \n",
    "    # Check for mutated genes\n",
    "    if mutation_status == \"Mutation\":\n",
    "        mutated_genes.append(name)\n",
    "\n",
    "# Display results\n",
    "print(\"High-expression genes:\", high_expression_genes)\n",
    "print(\"Mutated genes:\", mutated_genes)\n"
   ]
  },
  {
   "cell_type": "markdown",
   "id": "428b8f70",
   "metadata": {},
   "source": [
    "## Task 3 \n",
    "\n",
    "#### Filter a set of DNA sequences based on specific criteria. \n",
    "\n",
    "In this example, there is a set of DNA sequences stored in a dictionary. Please use nested if statements to filter the sequences based on two criteria: \n",
    "#### high GC content and length. \n",
    "The sequences that meet both criteria are considered valid sequences.\n",
    "\n",
    "You can work with your specific bioinformatics criteria. \n",
    "\n",
    "Advanced applications of nested if statements in bioinformatics often involve more complex conditions and additional data processing steps, such as sequence alignment, motif detection, or phylogenetic analysis."
   ]
  },
  {
   "cell_type": "code",
   "execution_count": 3,
   "id": "64e4ace5",
   "metadata": {},
   "outputs": [
    {
     "name": "stdout",
     "output_type": "stream",
     "text": [
      "Sequences with high GC content: set()\n",
      "Long sequences: {'sequence3'}\n",
      "Valid sequences meeting both criteria: set()\n"
     ]
    }
   ],
   "source": [
    "# Define a set of DNA sequences\n",
    "dna_sequences = {\n",
    "    \"sequence1\": \"ATGAGCTAGCTAGCTAGCTGAGCTAGCTAG\",\n",
    "    \"sequence2\": \"ATGAGCTAGCTAGCTAGCTGAGCTAGCTAG\",\n",
    "    \"sequence3\": \"ATGACGCTAGCTAGCTAGCTGAGCTAGCTAG\",\n",
    "    \"sequence4\": \"ATGAGCTAGCTAGCTAGCTGAGCTAGCTAG\",\n",
    "}\n",
    "\n",
    "# Initialize empty sets to store sequences that meet specific criteria\n",
    "high_gc_content = set()\n",
    "long_sequences = set()\n",
    "valid_sequences = set()\n",
    "\n",
    "# Define threshold values\n",
    "gc_content_threshold = 0.6\n",
    "sequence_length_threshold = 30\n",
    "\n",
    "# Filter sequences based on criteria\n",
    "for name, sequence in dna_sequences.items():\n",
    "    # Check for sequences with high GC content\n",
    "    gc_content = (sequence.count(\"G\") + sequence.count(\"C\")) / len(sequence)\n",
    "    if gc_content > gc_content_threshold:\n",
    "        high_gc_content.add(name)\n",
    "\n",
    "    # Check for sequences that are long\n",
    "    if len(sequence) > sequence_length_threshold:\n",
    "        long_sequences.add(name)\n",
    "\n",
    "# Check for valid sequences meeting both criteria\n",
    "for name in dna_sequences:\n",
    "    if name in high_gc_content and name in long_sequences:\n",
    "        valid_sequences.add(name)\n",
    "\n",
    "# Print results\n",
    "print(\"Sequences with high GC content:\", high_gc_content)\n",
    "print(\"Long sequences:\", long_sequences)\n",
    "print(\"Valid sequences meeting both criteria:\", valid_sequences)\n",
    "\n"
   ]
  },
  {
   "cell_type": "markdown",
   "id": "73dd057c",
   "metadata": {},
   "source": [
    "## Task 4 \n",
    "\n",
    "Use a nested if statement to determine the type of DNA sequence based on the counts of nucleotides A, T, C, and G. \n",
    "\n",
    "Counts the occurrences of each nucleotide and then uses nested if statements to classify the sequence as purine-rich, pyrimidine-rich, or mixed based on the most abundant nucleotides. \n",
    "\n"
   ]
  },
  {
   "cell_type": "markdown",
   "id": "eaf89416",
   "metadata": {},
   "source": [
    "#### Pseudocode:\n",
    "1. Create a DNA sequence as a string.\n",
    "2. Initialize a dictionary to store nucleotide counts (A, T, C, G).\n",
    "3. Initialize variables to count each nucleotide.\n",
    "4. Iterate through the DNA sequence:\n",
    "   - For each character in the sequence:\n",
    "     - If it is 'A', increment the 'A' count.\n",
    "     - If it is 'T', increment the 'T' count.\n",
    "     - If it is 'C', increment the 'C' count.\n",
    "     - If it is 'G', increment the 'G' count.\n",
    "5. Determine the type of DNA sequence:\n",
    "   - If 'A' and 'T' are the most abundant nucleotides, it's likely a purine-rich sequence.\n",
    "   - If 'C' and 'G' are the most abundant nucleotides, it's likely a pyrimidine-rich sequence.\n",
    "   - If there's a balanced distribution, it's a mixed sequence.\n",
    "6. Print the type of DNA sequence.\n"
   ]
  },
  {
   "cell_type": "code",
   "execution_count": 1,
   "id": "c1cdc93f",
   "metadata": {},
   "outputs": [
    {
     "name": "stdout",
     "output_type": "stream",
     "text": [
      "The DNA sequence is of type: Purine-rich\n"
     ]
    }
   ],
   "source": [
    "# Create a DNA sequence\n",
    "dna_sequence = \"ATCGAGTACCGTAAAG\"\n",
    "\n",
    "# Initialize a dictionary to store nucleotide counts\n",
    "nucleotide_counts = {'A': 0, 'T': 0, 'C': 0, 'G': 0}\n",
    "\n",
    "# Initialize variables to count each nucleotide\n",
    "A_count = 0\n",
    "T_count = 0\n",
    "C_count = 0\n",
    "G_count = 0\n",
    "\n",
    "# Iterate through the DNA sequence\n",
    "for nucleotide in dna_sequence:\n",
    "    if nucleotide == 'A':\n",
    "        A_count += 1\n",
    "    elif nucleotide == 'T':\n",
    "        T_count += 1\n",
    "    elif nucleotide == 'C':\n",
    "        C_count += 1\n",
    "    elif nucleotide == 'G':\n",
    "        G_count += 1\n",
    "        \n",
    "\n",
    "# Determine the type of DNA sequence\n",
    "if (A_count+T_count) > (C_count+G_count):\n",
    "    sequence_type = \"Purine-rich\"\n",
    "elif (C_count+G_count) > (A_count+T_count):\n",
    "    sequence_type = \"Pyrimidine-rich\"\n",
    "else:\n",
    "    sequence_type = \"Mixed\"\n",
    "\n",
    "# Print the type of DNA sequence\n",
    "print(f\"The DNA sequence is of type: {sequence_type}\")\n"
   ]
  },
  {
   "cell_type": "markdown",
   "id": "163b2bc3",
   "metadata": {},
   "source": [
    "## Advance task \n",
    "\n",
    "#### Case Study: \n",
    "Identifying a DNA Motif in Sequences\n",
    "\n",
    "#### Scenario:\n",
    "You are a bioinformatics researcher working with DNA sequences. You want to find and count the occurrences of a specific DNA motif within a list of DNA sequences. Motifs are represented as tuples of DNA bases.\n"
   ]
  },
  {
   "cell_type": "markdown",
   "id": "e98010bf",
   "metadata": {},
   "source": [
    "1. We have a list of DNA sequences, and we represent the motif we're searching for as a tuple.\n",
    "2. We use a dictionary to store the indices of sequences where the motif is found and the respective counts.\n",
    "3. We use nested if statements to check if the current three bases in the sequence match the motif.\n",
    "4. If the motif is found, we increment the count, and if the count is greater than 0, we record the sequence index and count in the dictionary.\n",
    "5. Finally, we display the results by iterating through the dictionary."
   ]
  },
  {
   "cell_type": "markdown",
   "id": "824cd879",
   "metadata": {},
   "source": [
    "#### Pseudocode:\n",
    "\n",
    "1. Define a list of DNA sequences\n",
    "2. Define the motif to search for as a tuple\n",
    "3. Initialize an empty dictionary to store sequence indices and motif counts\n",
    "\n",
    "4. Loop through each sequence in the list:\n",
    "    a. Initialize a count for the current sequence\n",
    "    b. Loop through the sequence using a range(len(sequence) - 2):\n",
    "        i. If the current three bases match the motif:\n",
    "            - Increment the count\n",
    "    c. If the count is greater than 0:\n",
    "        i. Store the sequence index and count in the dictionary\n",
    "\n",
    "5. Display the results: Iterate through the dictionary and print the sequence index and count.\n"
   ]
  },
  {
   "cell_type": "code",
   "execution_count": 5,
   "id": "22c08d73",
   "metadata": {},
   "outputs": [
    {
     "name": "stdout",
     "output_type": "stream",
     "text": [
      "Motif found in sequence 0: 6 times\n",
      "Motif found in sequence 1: 5 times\n",
      "Motif found in sequence 2: 5 times\n",
      "Motif found in sequence 3: 5 times\n"
     ]
    }
   ],
   "source": [
    "# List of DNA sequences\n",
    "dna_sequences = [\n",
    "    \"AGTACAGTGGTAGTACAGTCTAGTACAGT\",\n",
    "    \"TAGTACAGTCTAGTACAGTGGTAGTACAG\",\n",
    "    \"CTAGTACAGTGGTAGTACAGTGGTAGTAC\",\n",
    "    \"TGGTAGTACAGTGGTAGTACAGTCTAGTA\"\n",
    "]\n",
    "\n",
    "# Motif to search for (represented as a tuple)\n",
    "motif_to_find = (\"A\", \"G\", \"T\")\n",
    "\n",
    "# Dictionary to store sequence indices and motif counts\n",
    "motif_counts = {}\n",
    "\n",
    "# Loop through each sequence\n",
    "for i, sequence in enumerate(dna_sequences):\n",
    "    count = 0  # Initialize motif count for the current sequence\n",
    "    \n",
    "    # Loop through the sequence to find the motif\n",
    "    for j in range(len(sequence) - 2):\n",
    "        if (\n",
    "            sequence[j] == motif_to_find[0] and\n",
    "            sequence[j+1] == motif_to_find[1] and\n",
    "            sequence[j+2] == motif_to_find[2]\n",
    "        ):\n",
    "            count += 1  # Increment the count if motif is found\n",
    "\n",
    "    # Check if the count is greater than 0\n",
    "    if count > 0:\n",
    "        motif_counts[i] = count\n",
    "\n",
    "# Display the results\n",
    "for sequence_index, count in motif_counts.items():\n",
    "    print(f\"Motif found in sequence {sequence_index}: {count} times\")\n",
    "\n"
   ]
  },
  {
   "cell_type": "markdown",
   "id": "8a510653",
   "metadata": {},
   "source": [
    "## Case: DNA Sequence-Based Species Classification\n",
    "\n",
    "In this case, we have a simple dataset of DNA sequences. Each sequence consists of four nucleotide bases: A, T, C, and G. Based on the characteristics of the sequence (such as which bases are present and their distribution), we want to classify the species as either Species A or Species B.\n",
    "\n",
    "## Task: Algorithm implementation\n",
    "\n",
    "### Use if statement to write an algorithm based on decision tree\n",
    "\n",
    "### This algorithm can:\n",
    "\n",
    "### Based on the given features: the types of bases contained and their proportions, predict which species the base fragment belongs to.\n",
    "\n",
    "We will make classification decisions based on the following rules:\n",
    "\n",
    "#### If the sequence starts with an \"A,\" it is more likely to be Species A.\n",
    "\n",
    "#### If the sequence contains more than one \"T,\" it may also be classified as Species A.\n",
    "\n",
    "#### Otherwise, it is likely Species B."
   ]
  },
  {
   "cell_type": "markdown",
   "id": "83fe2320",
   "metadata": {},
   "source": [
    "A decision tree is a type of machine learning algorithm used for both classification and regression tasks. It is a tree-like structure that models decisions and their possible outcomes. The decision tree algorithm splits the data into subsets based on the value of certain features (or attributes) in a step-by-step process, leading to a decision or prediction at the end.\n",
    "\n",
    "#### How a Decision Tree Works:\n",
    "\n",
    "##### Splitting the Data:\n",
    "\n",
    "The tree begins at the root node and splits the data into subsets based on the value of the most important feature. The algorithm determines which feature to use by calculating the best possible split (using measures like information gain, Gini impurity, or variance reduction).\n",
    "\n",
    "##### Recursive Partitioning:\n",
    "\n",
    "After the first split, the algorithm continues to split each subset recursively. For each subset, it chooses another feature and splits the data further.\n",
    "\n",
    "The goal is to make each subset as homogeneous as possible—meaning, each subset should ideally contain only data points from a single class (or with similar values for regression).\n",
    "\n",
    "##### Stopping Criteria:\n",
    "\n",
    "##### The splitting process continues until the tree reaches a stopping criterion. \n",
    "\n",
    "A maximum depth for the tree (to prevent overfitting).\n",
    "\n",
    "A minimum number of data points required in a node.\n",
    "\n",
    "No more significant information gain from splitting further.\n",
    "\n",
    "Once a stopping criterion is met, the node becomes a leaf and the algorithm assigns a class label (in classification) or a value (in regression) to that node."
   ]
  },
  {
   "cell_type": "code",
   "execution_count": 3,
   "id": "2dcd8424",
   "metadata": {},
   "outputs": [
    {
     "name": "stdout",
     "output_type": "stream",
     "text": [
      "Sequence: ATCG, Predicted: B, Actual: A\n",
      "Sequence: ACGT, Predicted: B, Actual: B\n",
      "Sequence: ATTT, Predicted: A, Actual: A\n",
      "Sequence: CGGT, Predicted: B, Actual: B\n",
      "\n",
      "Accuracy: 75.00%\n"
     ]
    }
   ],
   "source": [
    "# Sample data: DNA sequences and their corresponding species\n",
    "data = [\n",
    "    {'sequence': 'ATCG', 'species': 'A'},\n",
    "    {'sequence': 'ACGT', 'species': 'B'},\n",
    "    {'sequence': 'ATTT', 'species': 'A'},\n",
    "    {'sequence': 'CGGT', 'species': 'B'}\n",
    "]\n",
    "\n",
    "# Define the classification function\n",
    "def classify_dna(sequence):\n",
    "    # Decision tree rules\n",
    "    if sequence[0] == 'A':  # First layer: if the sequence starts with 'A'\n",
    "        if sequence.count('T') > 1:  # Second layer: if the number of 'T's is greater than 1\n",
    "            return 'A'\n",
    "        else:\n",
    "            return 'B'\n",
    "    else:  # If the sequence doesn't start with 'A'\n",
    "        if sequence.count('G') >= 2:  # Check if there are two or more 'G's in the sequence\n",
    "            return 'B'\n",
    "        else:\n",
    "            return 'A'\n",
    "\n",
    "# Test the classifier\n",
    "def test_classifier(data):\n",
    "    correct = 0\n",
    "    total = len(data)\n",
    "    \n",
    "    for item in data:\n",
    "        predicted_species = classify_dna(item['sequence'])\n",
    "        actual_species = item['species']\n",
    "        print(f\"Sequence: {item['sequence']}, Predicted: {predicted_species}, Actual: {actual_species}\")\n",
    "        \n",
    "        if predicted_species == actual_species:\n",
    "            correct += 1\n",
    "    \n",
    "    accuracy = correct / total * 100\n",
    "    print(f\"\\nAccuracy: {accuracy:.2f}%\")\n",
    "\n",
    "# Run the test\n",
    "test_classifier(data)\n"
   ]
  },
  {
   "cell_type": "code",
   "execution_count": null,
   "id": "996f089f",
   "metadata": {},
   "outputs": [],
   "source": []
  }
 ],
 "metadata": {
  "kernelspec": {
   "display_name": "Python 3 (ipykernel)",
   "language": "python",
   "name": "python3"
  },
  "language_info": {
   "codemirror_mode": {
    "name": "ipython",
    "version": 3
   },
   "file_extension": ".py",
   "mimetype": "text/x-python",
   "name": "python",
   "nbconvert_exporter": "python",
   "pygments_lexer": "ipython3",
   "version": "3.11.5"
  }
 },
 "nbformat": 4,
 "nbformat_minor": 5
}
