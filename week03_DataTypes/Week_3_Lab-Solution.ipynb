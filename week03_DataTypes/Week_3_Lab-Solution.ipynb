{
 "cells": [
  {
   "cell_type": "markdown",
   "id": "931ace4e",
   "metadata": {},
   "source": [
    "# Week 3\n",
    "\n",
    "Hopefully you have already opened this document as a Jupyter Notebook and not simply as a pdf. If not, then you need to download the file *Week_3_Lab.ipynb* to an appropriate folder, and open the file.\n",
    "\n",
    "To open the file, if you have already installed ***Anaconda Individual Edition***, then open *Anaconda.Navigator*, from which you can launch *Jupyter Notebook*.\n",
    "\n",
    "(If working in the School of Computing labs, start *Anaconda3 / Anaconda Prompt*, then enter the following command specifying the path to the folder containing the file, and then open the file from the browser.)\n",
    "\n",
    "The Jupyter Notebook App is a tool for creating documents (notebooks) containing both live code and text, as well as visualizations, etc. Various programming languages can be used, but here the focus will be on Python. \n",
    "\n",
    "For more general resources:\n",
    "\n",
    "- Jupyter Notebook - https://jupyter.org/\n",
    "- Anaconda - https://www.anaconda.com/\n",
    "- Python - https://www.python.org/\n",
    "\n",
    "The rest of this notebook is intended as an introduction to key features of Python and Jupyter Notebooks, irrespective of whether you have used Python before or not. It is not intended to be exhaustive, but will cover material that will be relevant in this module. In addition to this material, you are strongly encouarged to develop your knowledge of Python further through the use of other resources such as\n",
    "\n",
    "- The Python tutorial - https://docs.python.org/3/tutorial/\n",
    "\n",
    "Both Python and Jupyter Notebooks are used in various areas, including data science, so it would be well worth your while to develop your skills in this area as much as possible.\n",
    "\n",
    "## Getting started\n",
    "\n",
    "One thing you should do at the outset is to save this noteback as a new notebook, so that you can change it as much as you want, but still go back to the original file if necessary. Go to *File / Make a Copy*. This creates a new notebook called *Week_1_Lab-Copy1* in a file with the same name. You can change the name of the notebook (and the file) by going to *File / Rename* and changing it to *Week_1_Lab_my_version* for example, or by editing the name of the notebook at the top of the page beside the Jupyter symbol (just above the menu).\n",
    "\n",
    "### Cell Types\n",
    "\n",
    "We need to distinguish between different types of cells. This cell is a **Markdown cell**, whereas the next cell below is a **Code cell**. Markdown cells are for formatting text rather than for running code. To see how to format headings, use italics and bold font, for example, you can go into edit mode by double-clicking on a cell. Try it for this cell. To execute the cell (and so produce the formatted text), you can go to *Cell / Run Cells* or use the shortcut *Ctrl-Enter*. (You can find other keyboard shortcuts under the *Help* menu.) Markdown is very useful for mathematical notation such as $\\sqrt{2}$. For further details on Markdown see <a href=\"https://www.datacamp.com/community/tutorials/markdown-in-jupyter-notebook\" >Markdown in Jupyter Notebook</a>.\n",
    "\n",
    "The next cell below is a Code cell. You can also edit and run it as described above, but now it will execute the code and present the output below the cell. \n",
    "\n",
    "\n",
    "# https://www.w3schools.com/python/python_lists.asp\n",
    "\n",
    "# https://www.w3schools.com/python/python_tuples.asp"
   ]
  },
  {
   "cell_type": "markdown",
   "id": "d1843037",
   "metadata": {},
   "source": [
    "## Task 1 List\n",
    "\n",
    "Given DNA sequence\n",
    "dna_sequence = \"AGCTTAGCTAGCTAGCTAGCTAGCTAGCTAGCT\"\n",
    "\n",
    "### 1. Calculate the length of the DNA sequence using a list-related function.\n"
   ]
  },
  {
   "cell_type": "code",
   "execution_count": 1,
   "id": "f2a19799",
   "metadata": {},
   "outputs": [
    {
     "name": "stdout",
     "output_type": "stream",
     "text": [
      "Length of the DNA sequence: 33\n"
     ]
    }
   ],
   "source": [
    "# Given DNA sequence\n",
    "dna_sequence = \"AGCTTAGCTAGCTAGCTAGCTAGCTAGCTAGCT\"\n",
    "\n",
    "# Convert the DNA sequence into a list of nucleotides\n",
    "nucleotides_list = list(dna_sequence)\n",
    "\n",
    "# Calculate the length of the DNA sequence (number of nucleotides)\n",
    "sequence_length = len(nucleotides_list)\n",
    "\n",
    "print(\"Length of the DNA sequence:\", sequence_length)\n"
   ]
  },
  {
   "cell_type": "markdown",
   "id": "5fd36700",
   "metadata": {},
   "source": [
    "### 2. Count the number of 'C' and 'G' nucleotides in the DNA sequence using list-related functions."
   ]
  },
  {
   "cell_type": "code",
   "execution_count": 2,
   "id": "be120213",
   "metadata": {},
   "outputs": [
    {
     "name": "stdout",
     "output_type": "stream",
     "text": [
      "Count of 'C' nucleotides: 8\n",
      "Count of 'G' nucleotides: 8\n"
     ]
    }
   ],
   "source": [
    "dna_sequence = \"AGCTTAGCTAGCTAGCTAGCTAGCTAGCTAGCT\"\n",
    "\n",
    "# Convert the DNA sequence to a list of nucleotides\n",
    "nucleotides = list(dna_sequence)\n",
    "\n",
    "# Use list comprehension to count 'C' and 'G' nucleotides\n",
    "count_c = nucleotides.count('C')\n",
    "count_g = nucleotides.count('G')\n",
    "\n",
    "print(\"Count of 'C' nucleotides:\", count_c)\n",
    "print(\"Count of 'G' nucleotides:\", count_g)\n"
   ]
  },
  {
   "cell_type": "markdown",
   "id": "b6ba0442",
   "metadata": {},
   "source": [
    "### 3. Create a list of all unique nucleotides present in the DNA sequence using list-related functions."
   ]
  },
  {
   "cell_type": "code",
   "execution_count": 3,
   "id": "924d0ce1",
   "metadata": {},
   "outputs": [
    {
     "name": "stdout",
     "output_type": "stream",
     "text": [
      "3. Unique nucleotides: ['A', 'C', 'G', 'T']\n"
     ]
    }
   ],
   "source": [
    "dna_sequence = \"AGCTTAGCTAGCTAGCTAGCTAGCTAGCTAGCT\"\n",
    "\n",
    "# Convert the DNA sequence to a list of nucleotides\n",
    "nucleotides_list = list(dna_sequence)\n",
    "\n",
    "# Use the set() function to remove duplicates and then convert it back to a list\n",
    "unique_nucleotides_list = list(set(nucleotides_list))\n",
    "\n",
    "# If you want the unique nucleotides to be in a specific order, you can sort the list\n",
    "unique_nucleotides_list.sort()\n",
    "\n",
    "print(\"3. Unique nucleotides:\",unique_nucleotides_list)\n"
   ]
  },
  {
   "cell_type": "markdown",
   "id": "ce0cfea6",
   "metadata": {},
   "source": [
    "### 4. Calculate the reverse complement of the DNA sequence using list-related functions.\n",
    "\n",
    "Reversing and complementing a DNA sequence involves two distinct steps:\n",
    "\n",
    "Reversing: This is simply taking a DNA sequence and reversing the order of its nucleotides. For example, if you have the sequence \"ATCG\", reversing it would give \"GCTA\".\n",
    "\n",
    "Complementing: DNA is composed of four nucleotide bases: Adenine (A), Thymine (T), Cytosine (C), and Guanine (G). In the DNA double helix, Adenine always pairs with Thymine, and Cytosine always pairs with Guanine. Complementing a sequence means replacing each nucleotide with its pairing partner. So, for the sequence \"ATCG\", the complement would be \"TAGC\".\n",
    "\n",
    "Together, reversing and complementing a sequence is often referred to as finding the \"reverse complement\". For the sequence \"ATCG\", the reverse complement would be \"CGAT\".\n",
    "\n",
    "Importance:\n",
    "\n",
    "Biology of the Double Helix: DNA exists as a double helix, with one strand running in the 5' to 3' direction and the other running in the 3' to 5' direction. When we talk about a specific DNA sequence in molecular biology, we often refer to the sequence of the 5' to 3' strand. But in various contexts, especially in laboratory experiments and certain analyses, the sequence of the complementary 3' to 5' strand becomes important. Knowing the reverse complement is crucial in these situations.\n",
    "\n",
    "Primer Design in PCR: The polymerase chain reaction (PCR) is a fundamental molecular biology technique used to amplify DNA. To initiate the PCR, short DNA sequences known as primers are required. Often, one needs to design a primer that matches the reverse complement of a sequence of interest.\n",
    "\n",
    "Genome Annotation and Analysis: During the process of annotating a genome or analyzing DNA sequences, it's essential to examine both the given DNA strand and its reverse complement to ensure all possible genes (which can be present on either strand) are identified.\n",
    "\n",
    "DNA Replication: During DNA replication, the enzyme DNA polymerase synthesizes the new strand in the 5' to 3' direction. This means that while one strand (known as the leading strand) is synthesized continuously, the other (the lagging strand) is synthesized in fragments. Understanding the reverse complement sequence is crucial to understanding this process.\n",
    "\n",
    "Explore the online tools by youself\n",
    "https://arep.med.harvard.edu/labgc/adnan/projects/Utilities/revcomp.html\n",
    "\n"
   ]
  },
  {
   "cell_type": "code",
   "execution_count": 4,
   "id": "0fe3e1b7",
   "metadata": {},
   "outputs": [
    {
     "name": "stdout",
     "output_type": "stream",
     "text": [
      "AGCTAGCTAGCTAGCTAGCTAGCTAGCTAAGCT\n"
     ]
    }
   ],
   "source": [
    "# Given DNA sequence\n",
    "dna_sequence = \"AGCTTAGCTAGCTAGCTAGCTAGCTAGCTAGCT\"\n",
    "\n",
    "# Create a dictionary to define the complement of each nucleotide\n",
    "complement_dict = {'A': 'T', 'T': 'A', 'G': 'C', 'C': 'G'}\n",
    "\n",
    "# Create a list to store the complement of each nucleotide\n",
    "complement_list = [complement_dict[base] for base in dna_sequence]\n",
    "\n",
    "# Reverse the list to get the reverse complement\n",
    "reverse_complement_list = complement_list[::-1]\n",
    "\n",
    "# Convert the reversed list back into a string\n",
    "reverse_complement = ''.join(reverse_complement_list)\n",
    "\n",
    "print(reverse_complement)\n"
   ]
  },
  {
   "cell_type": "markdown",
   "id": "d78003b4",
   "metadata": {},
   "source": [
    "### 5. Find the starting index of the first occurrence of the subsequence 'AGCT' using list-related functions.\n",
    "\n",
    "\n",
    "#### You might need: what is index()\n",
    "\n",
    "The index() method is used to find the index or position of the first occurrence of a specified element within a list, tuple, or string. It returns the index of the first occurrence of the element in the sequence. If the element is not found, it raises a ValueError exception.\n",
    "\n",
    "#### sequence.index(element[, start[, end]])"
   ]
  },
  {
   "cell_type": "code",
   "execution_count": 5,
   "id": "d70f48c6",
   "metadata": {},
   "outputs": [
    {
     "name": "stdout",
     "output_type": "stream",
     "text": [
      "Index of 'apple': 0\n",
      "Index of 'apple' (second occurrence): 4\n",
      "Index of 'cherry' in a limited range: 2\n"
     ]
    }
   ],
   "source": [
    "#list.index(element, start, end)\n",
    "\n",
    "fruits = [\"apple\", \"banana\", \"cherry\", \"date\", \"apple\"]\n",
    "\n",
    "# Find the index of the first occurrence of \"apple\"\n",
    "index1 = fruits.index(\"apple\")\n",
    "print(\"Index of 'apple':\", index1)\n",
    "\n",
    "# Find the index of the second occurrence of \"apple\"\n",
    "index2 = fruits.index(\"apple\", index1 + 1)\n",
    "print(\"Index of 'apple' (second occurrence):\", index2)\n",
    "\n",
    "# Specify a start and end index to search in a portion of the list\n",
    "index_cherry = fruits.index(\"cherry\", 1, 3)\n",
    "print(\"Index of 'cherry' in a limited range:\", index_cherry)\n"
   ]
  },
  {
   "cell_type": "code",
   "execution_count": 6,
   "id": "8663b59c",
   "metadata": {},
   "outputs": [
    {
     "name": "stdout",
     "output_type": "stream",
     "text": [
      "Starting index of 'AGCT': 0\n"
     ]
    }
   ],
   "source": [
    "dna_sequence = \"AGCTTAGCTAGCTAGCTAGCTAGCTAGCTAGCT\"\n",
    "\n",
    "# Convert the DNA sequence into a list of characters\n",
    "sequence_list = list(dna_sequence)\n",
    "\n",
    "# Define the subsequence to search for\n",
    "start_index = dna_sequence.index('AGCT')\n",
    "\n",
    "print(\"Starting index of 'AGCT':\", start_index)\n"
   ]
  },
  {
   "cell_type": "markdown",
   "id": "d069dccf",
   "metadata": {},
   "source": [
    "### 6. Split the DNA sequence into a list of codons (3-letter sequences) using list-related functions.\n",
    "\n",
    "\n",
    "A for statement in Python is used for iteration or looping. It allows you to iterate over a sequence (such as a string, list, tuple, dictionary, or range) and perform a set of operations for each item in that sequence. The basic syntax of a for statement is as follows:\n"
   ]
  },
  {
   "cell_type": "code",
   "execution_count": 7,
   "id": "355285dd",
   "metadata": {},
   "outputs": [
    {
     "name": "stdout",
     "output_type": "stream",
     "text": [
      "apple\n",
      "banana\n",
      "cherry\n"
     ]
    }
   ],
   "source": [
    "#for variable in sequence:\n",
    "    # Code to be executed for each item in the sequence\n",
    "    \n",
    "fruits = [\"apple\", \"banana\", \"cherry\"]\n",
    "for fruit in fruits:\n",
    "    print(fruit)"
   ]
  },
  {
   "cell_type": "code",
   "execution_count": 8,
   "id": "ad9dc81a",
   "metadata": {},
   "outputs": [
    {
     "name": "stdout",
     "output_type": "stream",
     "text": [
      "ATGCTA\n",
      "CTAGCTA\n",
      "GCTAGCTA\n"
     ]
    }
   ],
   "source": [
    "#Bioinformatics tasks frequently involve processing multiple sequences stored in lists or files. \n",
    "#You can use \"for\" loops to iterate through a collection of sequences.\n",
    "\n",
    "sequence_list = [\"ATGCTA\", \"CTAGCTA\", \"GCTAGCTA\"]\n",
    "for sequence in sequence_list:\n",
    "    # Process each sequence\n",
    "    print(sequence)"
   ]
  },
  {
   "cell_type": "code",
   "execution_count": 9,
   "id": "cda820c9",
   "metadata": {},
   "outputs": [
    {
     "name": "stdout",
     "output_type": "stream",
     "text": [
      "['AGC', 'TTA', 'GCT', 'AGC', 'TAG', 'CTA', 'GCT', 'AGC', 'TAG', 'CTA', 'GCT']\n"
     ]
    }
   ],
   "source": [
    "dna_sequence = \"AGCTTAGCTAGCTAGCTAGCTAGCTAGCTAGCT\"\n",
    "\n",
    "# Use a list comprehension to split the DNA sequence into codons\n",
    "codons = [dna_sequence[i:i+3] for i in range(0, len(dna_sequence), 3)]\n",
    "\n",
    "print(codons)\n"
   ]
  },
  {
   "cell_type": "markdown",
   "id": "c92b907c",
   "metadata": {},
   "source": [
    "## Task 2 Tuple\n",
    "\n",
    "Given protein sequence\n",
    "protein_sequence = \"MKEKLEEALDKIAEEKVYAKLENTAAGADFIKKTVEKESVDSKASLGGSGGELLEVGTVAKVEAGLNAEEAGNTKGAGEEGVAEEAKKEEGVEEK\"\n"
   ]
  },
  {
   "cell_type": "markdown",
   "id": "e5f201e2",
   "metadata": {},
   "source": [
    "### 1. Create a tuple containing the amino acid residues found in the protein sequence."
   ]
  },
  {
   "cell_type": "code",
   "execution_count": 10,
   "id": "d4badf75",
   "metadata": {},
   "outputs": [
    {
     "name": "stdout",
     "output_type": "stream",
     "text": [
      "('M', 'K', 'E', 'K', 'L', 'E', 'E', 'A', 'L', 'D', 'K', 'I', 'A', 'E', 'E', 'K', 'V', 'Y', 'A', 'K', 'L', 'E', 'N', 'T', 'A', 'A', 'G', 'A', 'D', 'F', 'I', 'K', 'K', 'T', 'V', 'E', 'K', 'E', 'S', 'V', 'D', 'S', 'K', 'A', 'S', 'L', 'G', 'G', 'S', 'G', 'G', 'E', 'L', 'L', 'E', 'V', 'G', 'T', 'V', 'A', 'K', 'V', 'E', 'A', 'G', 'L', 'N', 'A', 'E', 'E', 'A', 'G', 'N', 'T', 'K', 'G', 'A', 'G', 'E', 'E', 'G', 'V', 'A', 'E', 'E', 'A', 'K', 'K', 'E', 'E', 'G', 'V', 'E', 'E', 'K')\n"
     ]
    }
   ],
   "source": [
    "protein_sequence = \"MKEKLEEALDKIAEEKVYAKLENTAAGADFIKKTVEKESVDSKASLGGSGGELLEVGTVAKVEAGLNAEEAGNTKGAGEEGVAEEAKKEEGVEEK\"\n",
    "\n",
    "# Create a tuple containing the amino acid residues\n",
    "amino_acid_residues = tuple(protein_sequence)\n",
    "\n",
    "# Print the tuple\n",
    "print(amino_acid_residues)"
   ]
  },
  {
   "cell_type": "markdown",
   "id": "5a003fc0",
   "metadata": {},
   "source": [
    "### 2. Find the length of the protein sequence using a tuple-related function.\n",
    "\n",
    "#### You might need: what is index()\n",
    "\n",
    "The index() method is used to find the index or position of the first occurrence of a specified element within a list, tuple, or string. It returns the index of the first occurrence of the element in the sequence. If the element is not found, it raises a ValueError exception.\n",
    "\n",
    "#### sequence.index(element[, start[, end]])\n"
   ]
  },
  {
   "cell_type": "code",
   "execution_count": 11,
   "id": "c3e9b44c",
   "metadata": {},
   "outputs": [
    {
     "name": "stdout",
     "output_type": "stream",
     "text": [
      "Index of 30: 2\n"
     ]
    }
   ],
   "source": [
    "#Example:\n",
    "#Finding the Index in a Tuple\n",
    "\n",
    "my_tuple = (10, 20, 30, 40, 50, 30)\n",
    "\n",
    "index = my_tuple.index(30)\n",
    "\n",
    "#Output: Index of 30\n",
    "print(\"Index of 30:\", index)  \n"
   ]
  },
  {
   "cell_type": "code",
   "execution_count": 12,
   "id": "cef1fbf8",
   "metadata": {},
   "outputs": [
    {
     "name": "stdout",
     "output_type": "stream",
     "text": [
      "2. Length of the protein sequence: 95\n"
     ]
    }
   ],
   "source": [
    "protein_sequence = \"MKEKLEEALDKIAEEKVYAKLENTAAGADFIKKTVEKESVDSKASLGGSGGELLEVGTVAKVEAGLNAEEAGNTKGAGEEGVAEEAKKEEGVEEK\"\n",
    "\n",
    "# Calculate the length of the protein sequence\n",
    "sequence_length = len(protein_sequence)\n",
    "\n",
    "# Print the tuple\n",
    "print(\"2. Length of the protein sequence:\", sequence_length)\n"
   ]
  },
  {
   "cell_type": "markdown",
   "id": "2741c1da",
   "metadata": {},
   "source": [
    "### 3. Calculate the frequency of each amino acid in the protein sequence using a tuple-related function.\n",
    "\n",
    "#### You might need: what is import\n",
    "\n",
    "It seems like you want to import a Python module or library. In Python, you can import modules or libraries to access their functions, classes, or variables. To import a module, you typically use the import keyword followed by the name of the module you want to import.\n",
    "\n",
    "You can also use the import statement to import specific functions or variables from a module:"
   ]
  },
  {
   "cell_type": "code",
   "execution_count": 13,
   "id": "fbce13ac",
   "metadata": {},
   "outputs": [
    {
     "name": "stdout",
     "output_type": "stream",
     "text": [
      "5.0\n"
     ]
    }
   ],
   "source": [
    "from math import sqrt\n",
    "\n",
    "# Now you can use the sqrt function directly without referencing the math module\n",
    "print(sqrt(25))  # This will print the square root of 25, which is 5.0\n"
   ]
  },
  {
   "cell_type": "markdown",
   "id": "606dfc14",
   "metadata": {},
   "source": [
    "#### You might need: what is counter()\n",
    "\n",
    "The Counter method in Python is part of the collections module and is used for counting the occurrences of elements in a collection, such as a list, tuple, string, or even another dictionary. It returns a dictionary-like object with elements as keys and their counts as values. This can be particularly useful in bioinformatics and various other data analysis tasks. Here's how you can use the Counter method:"
   ]
  },
  {
   "cell_type": "code",
   "execution_count": 14,
   "id": "829bc5a9",
   "metadata": {},
   "outputs": [
    {
     "name": "stdout",
     "output_type": "stream",
     "text": [
      "Count of 'A': 4\n",
      "Count of 'C': 2\n",
      "All Element Counts: Counter({'A': 4, 'C': 2, 'G': 2, 'T': 2})\n"
     ]
    }
   ],
   "source": [
    "from collections import Counter\n",
    "\n",
    "# Create a list of elements, e.g., DNA nucleotides\n",
    "dna_sequence = ['A', 'C', 'G', 'A', 'T', 'T', 'C', 'G', 'A', 'A']\n",
    "\n",
    "# Use Counter to count the occurrences of each element\n",
    "element_counts = Counter(dna_sequence)\n",
    "\n",
    "# Access the counts for specific elements\n",
    "count_A = element_counts['A']\n",
    "count_C = element_counts['C']\n",
    "\n",
    "# Print the counts\n",
    "print(\"Count of 'A':\", count_A)\n",
    "print(\"Count of 'C':\", count_C)\n",
    "\n",
    "# Get a dictionary of all counts\n",
    "print(\"All Element Counts:\", element_counts)\n"
   ]
  },
  {
   "cell_type": "markdown",
   "id": "135661d4",
   "metadata": {},
   "source": [
    "In this example, we create a list of DNA nucleotides and use Counter to count their occurrences. You can then access the counts for specific elements using square brackets (element_counts['A']) or retrieve a dictionary-like object containing all counts.\n",
    "\n",
    "In bioinformatics, you can apply the Counter method to analyze biological sequences, count the frequencies of amino acids or nucleotides, identify common motifs, and more. It is a powerful tool for statistical analysis and data exploration in this field."
   ]
  },
  {
   "cell_type": "code",
   "execution_count": 15,
   "id": "51ea8dc8",
   "metadata": {},
   "outputs": [
    {
     "name": "stdout",
     "output_type": "stream",
     "text": [
      "Amino Acid: M, Frequency: 1\n",
      "Amino Acid: K, Frequency: 14\n",
      "Amino Acid: E, Frequency: 21\n",
      "Amino Acid: L, Frequency: 7\n",
      "Amino Acid: A, Frequency: 14\n",
      "Amino Acid: D, Frequency: 3\n",
      "Amino Acid: I, Frequency: 2\n",
      "Amino Acid: V, Frequency: 8\n",
      "Amino Acid: Y, Frequency: 1\n",
      "Amino Acid: N, Frequency: 3\n",
      "Amino Acid: T, Frequency: 4\n",
      "Amino Acid: G, Frequency: 12\n",
      "Amino Acid: F, Frequency: 1\n",
      "Amino Acid: S, Frequency: 4\n"
     ]
    }
   ],
   "source": [
    "from collections import Counter\n",
    "\n",
    "protein_sequence = \"MKEKLEEALDKIAEEKVYAKLENTAAGADFIKKTVEKESVDSKASLGGSGGELLEVGTVAKVEAGLNAEEAGNTKGAGEEGVAEEAKKEEGVEEK\"\n",
    "\n",
    "# Create a Counter object to count the occurrences of each amino acid\n",
    "amino_acid_counts = Counter(protein_sequence)\n",
    "\n",
    "# Convert the Counter object to a tuple of (amino acid, frequency) pairs\n",
    "amino_acid_frequency = tuple(amino_acid_counts.items())\n",
    "\n",
    "# Print the amino acid frequencies\n",
    "for amino_acid, frequency in amino_acid_frequency:\n",
    "    print(f\"Amino Acid: {amino_acid}, Frequency: {frequency}\")\n"
   ]
  },
  {
   "cell_type": "markdown",
   "id": "8239f3fe",
   "metadata": {},
   "source": [
    "### 4. Determine the position of the first occurrence of the amino acid 'E' using a tuple-related function.\n",
    "\n",
    "#### You might need: \n",
    "\n",
    "In Python, indexing is the process of accessing individual elements or characters within a data structure like a string, list, or tuple. Python uses zero-based indexing, which means that the first element is at index 0, the second element is at index 1, and so on."
   ]
  },
  {
   "cell_type": "code",
   "execution_count": 16,
   "id": "3483b71e",
   "metadata": {},
   "outputs": [
    {
     "name": "stdout",
     "output_type": "stream",
     "text": [
      "third_item\n",
      "40\n"
     ]
    }
   ],
   "source": [
    "my_tuple = (10, 20, 30, 40, 50)\n",
    "third_item = my_tuple[2]  # Access the third item 30\n",
    "fourth_item = my_tuple[3]  # Access the fourth item 40\n",
    "\n",
    "print('third_item',)\n",
    "print(fourth_item)"
   ]
  },
  {
   "cell_type": "markdown",
   "id": "a46d9b7c",
   "metadata": {},
   "source": [
    "Keep in mind that if you try to access an index that is out of bounds (e.g., an index greater than or equal to the length of the data structure), you will get an \"IndexError\" in Python."
   ]
  },
  {
   "cell_type": "code",
   "execution_count": 17,
   "id": "36e3ac08",
   "metadata": {},
   "outputs": [
    {
     "name": "stdout",
     "output_type": "stream",
     "text": [
      "Position of the first 'E': (2,)\n"
     ]
    }
   ],
   "source": [
    "protein_sequence = \"MKEKLEEALDKIAEEKVYAKLENTAAGADFIKKTVEKESVDSKASLGGSGGELLEVGTVAKVEAGLNAEEAGNTKGAGEEGVAEEAKKEEGVEEK\"\n",
    "\n",
    "# Find the first occurrence of 'E' in the protein_sequence\n",
    "first_e_position = protein_sequence.index('E')\n",
    "\n",
    "# Convert the position to a tuple\n",
    "position_tuple = (first_e_position,)\n",
    "\n",
    "# Print the result\n",
    "print(\"Position of the first 'E':\", position_tuple)\n"
   ]
  },
  {
   "cell_type": "markdown",
   "id": "65d3743f",
   "metadata": {},
   "source": [
    "### 5. Create a tuple of the first 10 amino acids in the sequence."
   ]
  },
  {
   "cell_type": "code",
   "execution_count": 18,
   "id": "9beb710e",
   "metadata": {},
   "outputs": [
    {
     "name": "stdout",
     "output_type": "stream",
     "text": [
      "('M', 'K', 'E', 'K', 'L', 'E', 'E', 'A', 'L', 'D')\n"
     ]
    }
   ],
   "source": [
    "protein_sequence = \"MKEKLEEALDKIAEEKVYAKLENTAAGADFIKKTVEKESVDSKASLGGSGGELLEVGTVAKVEAGLNAEEAGNTKGAGEEGVAEEAKKEEGVEEK\"\n",
    "\n",
    "# Extract the first 10 amino acids\n",
    "first_10_amino_acids = protein_sequence[:10]\n",
    "\n",
    "# Create a tuple from the extracted amino acids\n",
    "amino_acids_tuple = tuple(first_10_amino_acids)\n",
    "\n",
    "print(amino_acids_tuple)\n"
   ]
  },
  {
   "cell_type": "markdown",
   "id": "6f9b1ea8",
   "metadata": {},
   "source": [
    "### Advance exercise: Working with DNA Sequences\n",
    "\n",
    "Given a list of DNA sequences, perform the following tasks:\n",
    "\n",
    "##### Find the length of each sequence: \n",
    "Write a function that takes a list of DNA sequences (strings) and returns a list of tuples, where each tuple contains the DNA sequence and its length.\n",
    "\n",
    "##### Identify sequences that start with a specific nucleotide: \n",
    "Write a function that filters the sequences starting with a given nucleotide (e.g., 'A') using list comprehensions and returns a list of tuples with the sequence and its length.\n",
    "\n",
    "##### Find the GC content of each sequence: \n",
    "Write a function that calculates the GC content (percentage of 'G' and 'C' nucleotides) of each sequence and returns a list of tuples with the sequence, its length, and its GC content.\n",
    "\n",
    "##### Filter sequences by length: \n",
    "Write a function that filters sequences by a given length threshold, returning only sequences longer than that threshold."
   ]
  },
  {
   "cell_type": "code",
   "execution_count": null,
   "id": "c6145479",
   "metadata": {},
   "outputs": [],
   "source": [
    "dna_sequences = [\n",
    "    \"ATGCGTACG\",\n",
    "    \"CGTATGCGC\",\n",
    "    \"ATGATGCGTACG\",\n",
    "    \"GCGTAC\",\n",
    "    \"AATGCG\",\n",
    "]"
   ]
  },
  {
   "cell_type": "markdown",
   "id": "af14a8fb",
   "metadata": {},
   "source": [
    "### Tasks:\n",
    "\n",
    "#### 1. Find the length of each sequence.\n",
    "Write a function sequence_lengths that takes the list of DNA sequences and returns a list of tuples (sequence, length).\n",
    "\n",
    "#### 2. Filter sequences starting with a specific nucleotide.\n",
    "Write a function filter_by_start that returns a list of sequences that start with a given nucleotide.\n",
    "\n",
    "#### 3. Calculate the GC content.\n",
    "Write a function gc_content that returns a list of tuples containing the sequence, its length, and its GC content as a percentage.\n",
    "\n",
    "#### 4. Filter sequences by length.\n",
    "Write a function filter_by_length that returns sequences longer than a specified length.\n"
   ]
  },
  {
   "cell_type": "code",
   "execution_count": 1,
   "id": "9547a584",
   "metadata": {},
   "outputs": [
    {
     "name": "stdout",
     "output_type": "stream",
     "text": [
      "Sequence lengths: [('ATGCGTACG', 9), ('CGTATGCGC', 9), ('ATGATGCGTACG', 12), ('GCGTAC', 6), ('AATGCG', 6)]\n",
      "Sequences starting with 'A': [('ATGCGTACG', 9), ('ATGATGCGTACG', 12), ('AATGCG', 6)]\n",
      "GC content: [('ATGCGTACG', 9, 55.55555555555556), ('CGTATGCGC', 9, 66.66666666666666), ('ATGATGCGTACG', 12, 50.0), ('GCGTAC', 6, 66.66666666666666), ('AATGCG', 6, 50.0)]\n",
      "Sequences longer than 6: [('ATGCGTACG', 9), ('CGTATGCGC', 9), ('ATGATGCGTACG', 12)]\n"
     ]
    }
   ],
   "source": [
    "# 1. Find the length of each sequence\n",
    "def sequence_lengths(dna_sequences):\n",
    "    return [(seq, len(seq)) for seq in dna_sequences]\n",
    "\n",
    "# 2. Filter sequences starting with a specific nucleotide\n",
    "def filter_by_start(dna_sequences, nucleotide):\n",
    "    return [(seq, len(seq)) for seq in dna_sequences if seq.startswith(nucleotide)]\n",
    "\n",
    "# 3. Calculate the GC content\n",
    "def gc_content(dna_sequences):\n",
    "    return [(seq, len(seq), (seq.count('G') + seq.count('C')) / len(seq) * 100) for seq in dna_sequences]\n",
    "\n",
    "# 4. Filter sequences by length\n",
    "def filter_by_length(dna_sequences, length_threshold):\n",
    "    return [(seq, len(seq)) for seq in dna_sequences if len(seq) > length_threshold]\n",
    "\n",
    "# Example input\n",
    "dna_sequences = [\n",
    "    \"ATGCGTACG\",\n",
    "    \"CGTATGCGC\",\n",
    "    \"ATGATGCGTACG\",\n",
    "    \"GCGTAC\",\n",
    "    \"AATGCG\",\n",
    "]\n",
    "\n",
    "# Task 1: Find lengths\n",
    "print(\"Sequence lengths:\", sequence_lengths(dna_sequences))\n",
    "\n",
    "# Task 2: Filter by starting nucleotide 'A'\n",
    "print(\"Sequences starting with 'A':\", filter_by_start(dna_sequences, 'A'))\n",
    "\n",
    "# Task 3: Calculate GC content\n",
    "print(\"GC content:\", gc_content(dna_sequences))\n",
    "\n",
    "# Task 4: Filter by length > 6\n",
    "print(\"Sequences longer than 6:\", filter_by_length(dna_sequences, 6))\n"
   ]
  },
  {
   "cell_type": "markdown",
   "id": "0497665a",
   "metadata": {},
   "source": [
    "#### Expected Output:\n",
    "\n",
    "Sequence lengths: [('ATGCGTACG', 9), ('CGTATGCGC', 9), ('ATGATGCGTACG', 12), ('GCGTAC', 6), ('AATGCG', 6)]\n",
    "\n",
    "Sequences starting with 'A': [('ATGCGTACG', 9), ('ATGATGCGTACG', 12), ('AATGCG', 6)]\n",
    "\n",
    "GC content: [('ATGCGTACG', 9, 55.55555555555556), ('CGTATGCGC', 9, 66.66666666666666), ('ATGATGCGTACG', 12, 50.0), ('GCGTAC', 6, 66.66666666666666), ('AATGCG', 6, 50.0)]\n",
    "\n",
    "Sequences longer than 6: [('ATGCGTACG', 9), ('CGTATGCGC', 9), ('ATGATGCGTACG', 12)]\n"
   ]
  },
  {
   "cell_type": "code",
   "execution_count": null,
   "id": "e67f23f2",
   "metadata": {},
   "outputs": [],
   "source": []
  }
 ],
 "metadata": {
  "kernelspec": {
   "display_name": "Python 3 (ipykernel)",
   "language": "python",
   "name": "python3"
  },
  "language_info": {
   "codemirror_mode": {
    "name": "ipython",
    "version": 3
   },
   "file_extension": ".py",
   "mimetype": "text/x-python",
   "name": "python",
   "nbconvert_exporter": "python",
   "pygments_lexer": "ipython3",
   "version": "3.11.5"
  }
 },
 "nbformat": 4,
 "nbformat_minor": 5
}
