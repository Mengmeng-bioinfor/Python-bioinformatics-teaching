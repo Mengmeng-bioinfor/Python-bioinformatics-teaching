{
 "cells": [
  {
   "cell_type": "markdown",
   "id": "1c9ad6be",
   "metadata": {},
   "source": [
    "# Week 9\n",
    "\n",
    "Hopefully you have already opened this document as a Jupyter Notebook and not simply as a pdf. If not, then you need to download the file to an appropriate folder, and open the file.\n",
    "\n",
    "To open the file, if you have already installed Anaconda Individual Edition, then open Anaconda.Navigator, from which you can launch Jupyter Notebook.\n",
    "\n",
    "(If working in the School of Computing labs, start Anaconda3 / Anaconda Prompt, then enter the following command specifying the path to the folder containing the file, and then open the file from the browser.)\n",
    "\n",
    "The Jupyter Notebook App is a tool for creating documents (notebooks) containing both live code and text, as well as visualizations, etc. Various programming languages can be used, but here the focus will be on Python.\n",
    "\n",
    "For more general resources:\n",
    "\n",
    "Jupyter Notebook - https://jupyter.org/\n",
    "Anaconda - https://www.anaconda.com/\n",
    "Python - https://www.python.org/\n",
    "The rest of this notebook is intended as an introduction to key features of Python and Jupyter Notebooks, irrespective of whether you have used Python before or not. It is not intended to be exhaustive, but will cover material that will be relevant in this module. In addition to this material, you are strongly encouarged to develop your knowledge of Python further through the use of other resources such as\n",
    "\n",
    "The Python tutorial - https://docs.python.org/3/tutorial/\n",
    "Both Python and Jupyter Notebooks are used in various areas, including data science, so it would be well worth your while to develop your skills in this area as much as possible.\n",
    "\n",
    "Getting started\n",
    "One thing you should do at the outset is to save this noteback as a new notebook, so that you can change it as much as you want, but still go back to the original file if necessary. Go to File / Make a Copy. This creates a new notebook called Week_1_Lab-Copy1 in a file with the same name. You can change the name of the notebook (and the file) by going to File / Rename and changing it to Week_1_Lab_my_version for example, or by editing the name of the notebook at the top of the page beside the Jupyter symbol (just above the menu).\n",
    "\n",
    "Cell Types\n",
    "We need to distinguish between different types of cells. This cell is a Markdown cell, whereas the next cell below is a Code cell. Markdown cells are for formatting text rather than for running code. To see how to format headings, use italics and bold font, for example, you can go into edit mode by double-clicking on a cell. Try it for this cell. To execute the cell (and so produce the formatted text), you can go to Cell / Run Cells or use the shortcut Ctrl-Enter. (You can find other keyboard shortcuts under the Help menu.) Markdown is very useful for mathematical notation such as  2⎯⎯√\n",
    " . For further details on Markdown see Markdown in Jupyter Notebook.\n",
    "\n",
    "The next cell below is a Code cell. You can also edit and run it as described above, but now it will execute the code and present the output below the cell."
   ]
  },
  {
   "cell_type": "markdown",
   "id": "e6a37ca4",
   "metadata": {},
   "source": [
    "# Task 1\n",
    "\n",
    "This task involves working with a Python script designed to analyze genomic data. The script includes some common bioinformatics operations like reading FASTA files, performing sequence alignments, and calculating some basic statistics. Your task will be to debug this script and add appropriate comments.\n",
    "\n",
    "Your task is to:\n",
    "\n",
    "1. Debug the script: Ensure that it runs smoothly with a sample FASTA file. You might need to handle exceptions or edge cases that are not currently addressed.\n",
    "2. Add comments: Improve the script by adding detailed comments that explain what each part of the code does, especially in complex or critical sections.\n",
    "3. Optimize the code: If you find any inefficient parts of the code, try to optimize them for better performance, especially if dealing with large genomic datasets."
   ]
  },
  {
   "cell_type": "code",
   "execution_count": 1,
   "id": "b01218a0",
   "metadata": {},
   "outputs": [
    {
     "name": "stdout",
     "output_type": "stream",
     "text": [
      "Error reading file: [Errno 2] No such file or directory: 'gene.fasta'\n",
      "Read 0 sequences.\n"
     ]
    }
   ],
   "source": [
    "import Bio\n",
    "from Bio import SeqIO\n",
    "from Bio.Seq import Seq\n",
    "from Bio import Align\n",
    "import numpy as np\n",
    "\n",
    "def read_fasta(file):\n",
    "    \"\"\"Function to read a FASTA file and return a list of sequences.\"\"\"\n",
    "    sequences = []\n",
    "    try:\n",
    "        for record in SeqIO.parse(file, \"fasta\"):\n",
    "            sequences.append(record.seq)\n",
    "    except Exception as e:\n",
    "        print(f\"Error reading file: {e}\")\n",
    "    return sequences\n",
    "\n",
    "def pairwise_alignment(seq1, seq2):\n",
    "    \"\"\"Function for performing a pairwise alignment and returning the alignment score.\"\"\"\n",
    "    aligner = Align.PairwiseAligner()\n",
    "    score = aligner.score(seq1, seq2)\n",
    "    return score\n",
    "\n",
    "def calculate_gc_content(sequence):\n",
    "    \"\"\"Calculate the GC content of a sequence.\"\"\"\n",
    "    try:\n",
    "        gc_content = float(sequence.count(\"G\") + sequence.count(\"C\")) / len(sequence) * 100\n",
    "    except ZeroDivisionError:\n",
    "        print(\"Error: Sequence length is zero.\")\n",
    "        gc_content = 0\n",
    "    return gc_content\n",
    "\n",
    "# Main script\n",
    "if __name__ == \"__main__\":\n",
    "    sequences = read_fasta(\"gene.fasta\")\n",
    "\n",
    "    # Debug: Check if sequences are read correctly\n",
    "    print(f\"Read {len(sequences)} sequences.\")\n",
    "\n",
    "    # Pairwise alignments\n",
    "    for i in range(len(sequences)):\n",
    "        for j in range(i+1, len(sequences)):\n",
    "            score = pairwise_alignment(sequences[i], sequences[j])\n",
    "            print(f\"Alignment score between sequence {i} and {j}: {score}\")\n",
    "\n",
    "    # Calculate GC content for each sequence\n",
    "    for i, seq in enumerate(sequences):\n",
    "        gc_content = calculate_gc_content(seq)\n",
    "        print(f\"GC content of sequence {i}: {gc_content:.2f}%\")\n",
    "\n",
    "    # Debug: Add a check for common errors in sequence data, such as non-standard bases.\n"
   ]
  },
  {
   "cell_type": "code",
   "execution_count": 2,
   "id": "04cb7dbd",
   "metadata": {},
   "outputs": [
    {
     "name": "stdout",
     "output_type": "stream",
     "text": [
      "Read 1 sequences.\n",
      "GC content of sequence 0: 37.14%\n"
     ]
    }
   ],
   "source": [
    "import Bio\n",
    "from Bio import SeqIO\n",
    "from Bio.Seq import Seq\n",
    "from Bio import Align\n",
    "import numpy as np\n",
    "\n",
    "def read_fasta(file):\n",
    "    \"\"\"Read a FASTA file and return a list of sequences.\n",
    "    \n",
    "    Args:\n",
    "        file (str): Path to the FASTA file.\n",
    "\n",
    "    Returns:\n",
    "        list: A list of sequences.\n",
    "    \"\"\"\n",
    "    sequences = []\n",
    "    try:\n",
    "        for record in SeqIO.parse(file, \"fasta\"):\n",
    "            sequences.append(record.seq)\n",
    "    except Exception as e:\n",
    "        print(f\"Error reading file: {e}\")\n",
    "    return sequences\n",
    "\n",
    "def pairwise_alignment(seq1, seq2):\n",
    "    \"\"\"Perform a pairwise alignment and return the alignment score.\n",
    "\n",
    "    Args:\n",
    "        seq1 (Seq): First sequence.\n",
    "        seq2 (Seq): Second sequence.\n",
    "\n",
    "    Returns:\n",
    "        float: Alignment score.\n",
    "    \"\"\"\n",
    "    aligner = Align.PairwiseAligner()\n",
    "    score = aligner.score(seq1, seq2)\n",
    "    return score\n",
    "\n",
    "def calculate_gc_content(sequence):\n",
    "    \"\"\"Calculate the GC content of a sequence.\n",
    "\n",
    "    Args:\n",
    "        sequence (Seq): A DNA sequence.\n",
    "\n",
    "    Returns:\n",
    "        float: GC content percentage.\n",
    "    \"\"\"\n",
    "    if len(sequence) == 0:\n",
    "        print(\"Error: Sequence length is zero.\")\n",
    "        return 0\n",
    "    gc_content = float(sequence.count(\"G\") + sequence.count(\"C\")) / len(sequence) * 100\n",
    "    return gc_content\n",
    "\n",
    "# Main script\n",
    "if __name__ == \"__main__\":\n",
    "    sequences = read_fasta(\"gene.fna\")\n",
    "\n",
    "    if not sequences:\n",
    "        print(\"No sequences found in the file.\")\n",
    "    else:\n",
    "        print(f\"Read {len(sequences)} sequences.\")\n",
    "\n",
    "        # Pairwise alignments\n",
    "        for i in range(len(sequences)):\n",
    "            for j in range(i+1, len(sequences)):\n",
    "                score = pairwise_alignment(sequences[i], sequences[j])\n",
    "                print(f\"Alignment score between sequence {i} and {j}: {score}\")\n",
    "\n",
    "        # Calculate GC content for each sequence\n",
    "        for i, seq in enumerate(sequences):\n",
    "            gc_content = calculate_gc_content(seq)\n",
    "            print(f\"GC content of sequence {i}: {gc_content:.2f}%\")\n",
    "\n",
    "        # Additional check for non-standard bases\n",
    "        for i, seq in enumerate(sequences):\n",
    "            if not all(base in \"ATCG\" for base in seq.upper()):\n",
    "                print(f\"Sequence {i} contains non-standard bases.\")\n"
   ]
  },
  {
   "cell_type": "markdown",
   "id": "36610af8",
   "metadata": {},
   "source": [
    "#### Key Changes and Additions:\n",
    "\n",
    "1. Improved Error Handling: The read_fasta function now handles exceptions more gracefully, providing better feedback in case of errors.\n",
    "\n",
    "2. Zero Length Sequence Check: In calculate_gc_content, added a check for zero-length sequences to prevent division by zero errors.\n",
    "\n",
    "3. Enhanced Comments: Added detailed comments for each function, explaining their purpose, arguments, and return values.\n",
    "\n",
    "4. Additional Validation: Included a check for non-standard bases in the sequences, which is a common issue in genomic data.\n",
    "\n",
    "5. Script Robustness: Added a check to ensure that the script proceeds with further analysis only if sequences are successfully read from the file."
   ]
  },
  {
   "cell_type": "markdown",
   "id": "6d7168b6",
   "metadata": {},
   "source": [
    "# Task 2\n",
    "\n",
    "Scenario: Debugging a Python Script for ORF Analysis in a DNA Sequence\n",
    "\n",
    "#### Task Overview:\n",
    "1. Goal: Identify all potential open reading frames (ORFs) in a given DNA sequence.\n",
    "2. Input: A string representing a DNA sequence.\n",
    "3. Process: The script should scan the sequence, look for start and stop codons, and identify all ORFs."
   ]
  },
  {
   "cell_type": "markdown",
   "id": "629cd11a",
   "metadata": {},
   "source": [
    "#### Comments and Debugging Strategy:\n",
    "\n",
    "##### Functionality: The find_orfs function scans the DNA sequence for start codons and then looks for the nearest stop codon to identify an ORF.\n",
    "\n",
    "##### Debugging: A break statement was added to exit the loop once a stop codon is found. This prevents the identification of overlapping ORFs that share the same start codon.\n",
    "\n",
    "##### Testing: The script is tested with a sample DNA sequence. Adjustments or more sophisticated tests might be required for different or longer sequences."
   ]
  },
  {
   "cell_type": "code",
   "execution_count": 3,
   "id": "709d1ebb",
   "metadata": {},
   "outputs": [
    {
     "name": "stdout",
     "output_type": "stream",
     "text": [
      "Identified ORFs:\n",
      "ATGCGTAATTAA\n",
      "ATGGGTTTAAACCCATGA\n",
      "ATGAAAAATGTTTAA\n"
     ]
    }
   ],
   "source": [
    "# Sample DNA sequence (for illustration)\n",
    "dna_sequence = \"ATGCGTAATTAAGCCATGGGTTTAAACCCATGAAAAATGTTTAA\"\n",
    "\n",
    "# Potential start and stop codons\n",
    "start_codon = \"ATG\"\n",
    "stop_codons = [\"TAA\", \"TAG\", \"TGA\"]\n",
    "\n",
    "def find_orfs(sequence):\n",
    "    \"\"\"Find all potential ORFs in a given DNA sequence.\"\"\"\n",
    "    start_positions = []\n",
    "    orfs = []\n",
    "\n",
    "    # Find all start codon positions\n",
    "    for i in range(len(sequence) - 2):\n",
    "        codon = sequence[i:i+3]\n",
    "        if codon == start_codon:\n",
    "            start_positions.append(i)\n",
    "\n",
    "    # Find ORFs starting from each start codon\n",
    "    for start in start_positions:\n",
    "        for i in range(start, len(sequence) - 2, 3):\n",
    "            codon = sequence[i:i+3]\n",
    "            if codon in stop_codons:\n",
    "                orfs.append(sequence[start:i+3])\n",
    "                break # Debugging: Added break to stop after finding the first stop codon\n",
    "\n",
    "    return orfs\n",
    "\n",
    "# Debugging: Test the function\n",
    "print(\"Identified ORFs:\")\n",
    "for orf in find_orfs(dna_sequence):\n",
    "    print(orf)\n"
   ]
  },
  {
   "cell_type": "markdown",
   "id": "d2fbd065",
   "metadata": {},
   "source": [
    "# Task 3\n",
    "\n",
    "Task Description\n",
    "You are provided with a Python script that aims to find common motifs (subsequences) across a set of DNA sequences. The script attempts to identify these motifs using a naive approach and then calculates their frequency in each sequence."
   ]
  },
  {
   "cell_type": "code",
   "execution_count": 4,
   "id": "2efd8b27",
   "metadata": {},
   "outputs": [
    {
     "name": "stdout",
     "output_type": "stream",
     "text": [
      "Motifs found: {'ATCG': 5, 'TCGT': 3, 'CGTA': 5, 'GTAC': 4, 'TACG': 5, 'ACGA': 3, 'CGAT': 4, 'GATC': 3, 'GATA': 1, 'ATAT': 1, 'TATC': 1, 'ACGT': 1}\n"
     ]
    }
   ],
   "source": [
    "def find_motifs(sequences, motif_length):\n",
    "    \"\"\"Find common motifs of a given length in a list of DNA sequences.\n",
    "\n",
    "    Args:\n",
    "        sequences (list): A list of DNA sequences (strings).\n",
    "        motif_length (int): Length of the motif to search for.\n",
    "\n",
    "    Returns:\n",
    "        dict: A dictionary with motifs as keys and their frequencies as values.\n",
    "    \"\"\"\n",
    "    motifs = {}\n",
    "    for seq in sequences:\n",
    "        for i in range(len(seq) - motif_length + 1):\n",
    "            motif = seq[i:i + motif_length]\n",
    "            if motif in motifs:\n",
    "                motifs[motif] += 1\n",
    "            else:\n",
    "                motifs[motif] = 1\n",
    "    return motifs\n",
    "\n",
    "# Sample data\n",
    "dna_sequences = [\"ATCGTACGATCG\", \"CGTACGATATCG\", \"TACGATCGTACG\", \"CGATCGTACGTA\"]\n",
    "\n",
    "# Find motifs of length 4\n",
    "motif_length = 4\n",
    "motifs = find_motifs(dna_sequences, motif_length)\n",
    "print(\"Motifs found:\", motifs)"
   ]
  },
  {
   "cell_type": "markdown",
   "id": "93b7c8f3",
   "metadata": {},
   "source": [
    "#### Debugging and Comments\n",
    "The script seems straightforward, but there are a few areas we can improve or debug:\n",
    "\n",
    "1. Motif Counting Logic: The current logic counts each occurrence of a motif across all sequences. If we want to count how many sequences contain a motif at least once, this logic needs to be adjusted.\n",
    "2. Input Validation: We should add validation for the input sequences and motif length.\n",
    "3. Optimization: While the naive approach works for short sequences, it might be inefficient for longer sequences. However, since the data file isn't provided, we'll keep the approach as is."
   ]
  },
  {
   "cell_type": "code",
   "execution_count": 4,
   "id": "a96735be",
   "metadata": {},
   "outputs": [
    {
     "name": "stdout",
     "output_type": "stream",
     "text": [
      "Motifs found: {'TCGT': 3, 'GTAC': 4, 'CGAT': 4, 'CGTA': 4, 'ATCG': 4, 'TACG': 4, 'ACGA': 3, 'GATC': 3, 'GATA': 1, 'TATC': 1, 'ATAT': 1, 'ACGT': 1}\n"
     ]
    }
   ],
   "source": [
    "def find_motifs(sequences, motif_length):\n",
    "    \"\"\"Find common motifs of a given length in a list of DNA sequences.\n",
    "\n",
    "    This function searches for motifs of a specified length in each sequence and \n",
    "    counts the number of sequences in which each motif appears at least once.\n",
    "\n",
    "    Args:\n",
    "        sequences (list): A list of DNA sequences (strings).\n",
    "        motif_length (int): Length of the motif to search for.\n",
    "\n",
    "    Returns:\n",
    "        dict: A dictionary with motifs as keys and the count of sequences in which they appear as values.\n",
    "    \"\"\"\n",
    "    if motif_length <= 0:\n",
    "        raise ValueError(\"Motif length must be greater than 0.\")\n",
    "    \n",
    "    motifs = {}\n",
    "    for seq in sequences:\n",
    "        if not all(base in 'ATCG' for base in seq):\n",
    "            raise ValueError(\"Invalid DNA sequence detected.\")\n",
    "        found_motifs = set()  # Track motifs found in this sequence\n",
    "        for i in range(len(seq) - motif_length + 1):\n",
    "            motif = seq[i:i + motif_length]\n",
    "            found_motifs.add(motif)\n",
    "        for motif in found_motifs:\n",
    "            motifs[motif] = motifs.get(motif, 0) + 1\n",
    "    return motifs\n",
    "\n",
    "# Sample data\n",
    "dna_sequences = [\"ATCGTACGATCG\", \"CGTACGATATCG\", \"TACGATCGTACG\", \"CGATCGTACGTA\"]\n",
    "\n",
    "# Find motifs of length 4\n",
    "motif_length = 4\n",
    "try:\n",
    "    motifs = find_motifs(dna_sequences, motif_length)\n",
    "    print(\"Motifs found:\", motifs)\n",
    "except ValueError as e:\n",
    "    print(\"Error:\", e)"
   ]
  },
  {
   "cell_type": "markdown",
   "id": "bd2a5413",
   "metadata": {},
   "source": [
    "#### Key Changes:\n",
    "\n",
    "##### Motif Count Per Sequence: \n",
    "The function now counts how many sequences contain each motif at least once.\n",
    "\n",
    "##### Input Validation: \n",
    "Added checks for valid motif length and DNA sequence characters.\n",
    "\n",
    "##### Error Handling: \n",
    "Included try-except blocks to handle potential input errors."
   ]
  }
 ],
 "metadata": {
  "kernelspec": {
   "display_name": "Python 3 (ipykernel)",
   "language": "python",
   "name": "python3"
  },
  "language_info": {
   "codemirror_mode": {
    "name": "ipython",
    "version": 3
   },
   "file_extension": ".py",
   "mimetype": "text/x-python",
   "name": "python",
   "nbconvert_exporter": "python",
   "pygments_lexer": "ipython3",
   "version": "3.11.10"
  }
 },
 "nbformat": 4,
 "nbformat_minor": 5
}
