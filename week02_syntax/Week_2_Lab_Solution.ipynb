{
 "cells": [
  {
   "cell_type": "markdown",
   "metadata": {},
   "source": [
    "# Week 2\n",
    "\n",
    "# Solution for Tasks\n",
    "\n",
    "Hopefully you have already opened this document as a Jupyter Notebook and not simply as a pdf. If not, then you need to download the file *Week_2_Lab.ipynb* to an appropriate folder, and open the file.\n",
    "\n",
    "To open the file, if you have already installed ***Anaconda Individual Edition***, then open *Anaconda.Navigator*, from which you can launch *Jupyter Notebook*.\n",
    "\n",
    "(If working in the School of Computing labs, start *Anaconda3 / Anaconda Prompt*, then enter the following command specifying the path to the folder containing the file, and then open the file from the browser.)\n",
    "\n",
    "The Jupyter Notebook App is a tool for creating documents (notebooks) containing both live code and text, as well as visualizations, etc. Various programming languages can be used, but here the focus will be on Python. \n",
    "\n",
    "For more general resources:\n",
    "\n",
    "- Jupyter Notebook - https://jupyter.org/\n",
    "- Anaconda - https://www.anaconda.com/\n",
    "- Python - https://www.python.org/\n",
    "\n",
    "The rest of this notebook is intended as an introduction to key features of Python and Jupyter Notebooks, irrespective of whether you have used Python before or not. It is not intended to be exhaustive, but will cover material that will be relevant in this module. In addition to this material, you are strongly encouarged to develop your knowledge of Python further through the use of other resources such as\n",
    "\n",
    "- The Python tutorial - https://docs.python.org/3/tutorial/\n",
    "\n",
    "Both Python and Jupyter Notebooks are used in various areas, including data science, so it would be well worth your while to develop your skills in this area as much as possible.\n",
    "\n",
    "## Getting started\n",
    "\n",
    "One thing you should do at the outset is to save this noteback as a new notebook, so that you can change it as much as you want, but still go back to the original file if necessary. Go to *File / Make a Copy*. This creates a new notebook called *Week_1_Lab-Copy1* in a file with the same name. You can change the name of the notebook (and the file) by going to *File / Rename* and changing it to *Week_1_Lab_my_version* for example, or by editing the name of the notebook at the top of the page beside the Jupyter symbol (just above the menu).\n",
    "\n",
    "### Cell Types\n",
    "\n",
    "We need to distinguish between different types of cells. This cell is a **Markdown cell**, whereas the next cell below is a **Code cell**. Markdown cells are for formatting text rather than for running code. To see how to format headings, use italics and bold font, for example, you can go into edit mode by double-clicking on a cell. Try it for this cell. To execute the cell (and so produce the formatted text), you can go to *Cell / Run Cells* or use the shortcut *Ctrl-Enter*. (You can find other keyboard shortcuts under the *Help* menu.) Markdown is very useful for mathematical notation such as $\\sqrt{2}$. For further details on Markdown see <a href=\"https://www.datacamp.com/community/tutorials/markdown-in-jupyter-notebook\" >Markdown in Jupyter Notebook</a>.\n",
    "\n",
    "The next cell below is a Code cell. You can also edit and run it as described above, but now it will execute the code and present the output below the cell. "
   ]
  },
  {
   "cell_type": "markdown",
   "metadata": {},
   "source": [
    "## Task 1\n",
    "You can edit a current cell, such as the one above, to do a different calculation, but it is better to insert a new cell. You can do this by a) clicking on the cell above and then clicking *Insert / Insert Cell Below* from the menu or b) when executing a cell you can click *Cell / Run Cells and Insert Cell Below* from the menu (or alternatively use the shortcut *Alt-Enter*).\n",
    "\n",
    "Here are a couple of things you should check out. Confirm that unlike some other languages, Python does not use integer division for `7/3`. For integer division you would instead use `7//3`. \n",
    "\n",
    "You should also make sure you understand <a href=\"https://docs.python.org/3/reference/expressions.html?highlight=precedence\">precedence in Python</a>. For example\n",
    "\n",
    "- Is 4 / 3 * 2 the same as (4 / 3) * 2 or 4 / (3 * 2)?\n",
    "- What is the result of 5 + 8 / 4 - 3 * 6?\n",
    "\n",
    "You should try these out in the Code cell below, using the `print` function to display output. For example, to print the output from the previous cell we could use `print((25 - 4.5**2) / 3) `. However, you should also format the output to 3 decimal places. Hint: one way to do this is to use the `format` function as follows: `print('{:X.Yf}'.format(1.234567))`, where X and Y need to be replaced by suitable integers. For details, see https://www.python-course.eu/python3_formatted_output.php and https://docs.python.org/3/tutorial/inputoutput.html. "
   ]
  },
  {
   "cell_type": "markdown",
   "metadata": {},
   "source": [
    "### Basic programming structures\n",
    "\n",
    "Of course, as a programming language, Python provides the usual sorts of branching (`if`, `if else`)Try out the code below.\n",
    "\n",
    "**Note 1** In Python you do not need to declare the type of a variable.\n",
    "\n",
    "**Note 2** For programming structures such as `if`, the relevant code block that gets executed is defined by indentation, i.e. all the indented code is executed if the condition is true. The first unindented line of code is executed after the `if` statement is completed. This is very different from languages such as C and Java where { } are used."
   ]
  },
  {
   "cell_type": "markdown",
   "metadata": {},
   "source": [
    "### Pseudocode Task1\n",
    "\n",
    "we calculate the values of result1, result2, and result3.\n",
    "\n",
    "then we compare them to check if they are equal. \n",
    "\n",
    "If they are equal, it means that 4 / 3 * 2 is the same as (4 / 3) * 2. \n",
    "\n",
    "Otherwise, it means they are not the same.\n",
    "\n",
    "If they are equal, it means that 4 / 3 * 2 is the same as 4 / (3 * 2). \n",
    "\n",
    "Otherwise, it means they are not the same."
   ]
  },
  {
   "cell_type": "code",
   "execution_count": 2,
   "metadata": {},
   "outputs": [
    {
     "name": "stdout",
     "output_type": "stream",
     "text": [
      "4 / 3 * 2 the same as (4 / 3) * 2\n",
      "4 / 3 * 2 not the same as 4 / (3 * 2)\n"
     ]
    }
   ],
   "source": [
    "#Define variables x and y and z to represent calculation results of 4 / 3 * 2 and (4 / 3) * 2 and 4 / (3 * 2) respectiflly\n",
    "\n",
    "result1= 4 / 3 * 2\n",
    "result2=(4 / 3) * 2\n",
    "result3=4 / (3 * 2)\n",
    "\n",
    "# if...else statement to judge Is 4 / 3 * 2 the same as (4 / 3) * 2 or 4 / (3 * 2)? and print results of comparison\n",
    "\n",
    "if result1==result2:\n",
    "    print('4 / 3 * 2 the same as (4 / 3) * 2')\n",
    "else: \n",
    "    print('4 / 3 * 2 not the same as (4 / 3) * 2')\n",
    "\n",
    "if result1==result3:\n",
    "    print('4 / 3 * 2 the same as 4 / (3 * 2)')\n",
    "else: \n",
    "    print('4 / 3 * 2 not the same as 4 / (3 * 2)')"
   ]
  },
  {
   "cell_type": "markdown",
   "metadata": {},
   "source": [
    "### Pseudocode Task1\n",
    "\n",
    "First, we perform the division: 8 / 4, which equals 2.\n",
    "\n",
    "Then, we perform the multiplication: 3 * 6, which equals 18.\n",
    "\n",
    "Finally, we perform the addition and subtraction, from left to right: 5 + 2 - 18, which equals -11.\n",
    "\n",
    "So, the result of the expression 5 + 8 / 4 - 3 * 6 is -11."
   ]
  },
  {
   "cell_type": "code",
   "execution_count": 26,
   "metadata": {},
   "outputs": [
    {
     "name": "stdout",
     "output_type": "stream",
     "text": [
      "the result of 5 + 8 / 4 - 3 * 6 is -11.0 <class 'float'>\n"
     ]
    }
   ],
   "source": [
    "#Define variable x to represent the result of 5 + 8 / 4 - 3 * 6\n",
    "x=5 + 8 / 4 - 3 * 6\n",
    "\n",
    "#print calculation results of x and it's datatype\n",
    "print ('the result of 5 + 8 / 4 - 3 * 6 is',x,type(x))"
   ]
  },
  {
   "cell_type": "markdown",
   "metadata": {},
   "source": [
    "## Task 2\n",
    "Write a Python code that prompts the user to enter his/her height and assigns the user’s input to a variable named height. Then, output the value stored in the variable, i.e. the user’s entered height."
   ]
  },
  {
   "cell_type": "markdown",
   "metadata": {},
   "source": [
    "### Pseudocode Task2\n",
    "\n",
    "1.We use the Input statement to display a message asking the user to enter their height.\n",
    "\n",
    "2.We use the Input statement to read the user's input as a string and store it in the variable height_input.\n",
    "\n",
    "3.We store it in the variable height.\n",
    "\n",
    "4.Finally, we use the Output statement again to display the entered height."
   ]
  },
  {
   "cell_type": "code",
   "execution_count": null,
   "metadata": {},
   "outputs": [],
   "source": [
    "# Prompt the user to enter their height\n",
    "height = input(\"Please enter your height (in centimeters): \")\n",
    "\n",
    "# Output the entered height\n",
    "print(\"Your entered height is:\", height)"
   ]
  },
  {
   "cell_type": "markdown",
   "metadata": {},
   "source": [
    "## Task 3\n",
    "\n",
    "Design a flowchart（https://en.wikipedia.org/wiki/Flowchart) for a program that obtains an item's original price and then outputs the sale price applying a 20% discount. Then write pseudo code for this. \n",
    "Implement your pseudo code as a Python program for the above scenario. Output the sales price to two decimal places. \n",
    "Your program should look something like this when run: "
   ]
  },
  {
   "cell_type": "markdown",
   "metadata": {},
   "source": [
    "### Pseudocode Task3\n",
    "\n",
    "\n",
    "1. Prompt the user for the item's original price.\n",
    "2. Read and store the original price as a floating-point number (e.g., original_price).\n",
    "\n",
    "3. Calculate the discount amount:\n",
    "   - Set discount_rate to 0.20 (20% as a decimal).\n",
    "   - Set discount_amount to original_price multiplied by discount_rate.\n",
    "\n",
    "4. Calculate the sale price:\n",
    "   - Set sale_price to original_price minus discount_amount.\n",
    "\n",
    "5. Display the original price, discount amount, and sale price:\n",
    "   - Output \"Original Price: $\" + original_price.\n",
    "   - Output \"Discount Amount: $\" + discount_amount.\n",
    "   - Output \"Sale Price: £\" + sale_price.\n"
   ]
  },
  {
   "cell_type": "code",
   "execution_count": 2,
   "metadata": {},
   "outputs": [
    {
     "name": "stdout",
     "output_type": "stream",
     "text": [
      "Enter the original price of the item: 568\n",
      "The sale price with a 20% discount is: £454.40\n"
     ]
    }
   ],
   "source": [
    "# Input the original price from the user\n",
    "original_price = float(input(\"Enter the original price of the item: \"))\n",
    "\n",
    "# Calculate the sale price with a 20% discount\n",
    "discount = 0.20  # 20% discount\n",
    "sale_price = original_price - (original_price * discount)\n",
    "\n",
    "# Output the sale price\n",
    "print(f\"The sale price with a 20% discount is: £{sale_price:.2f}\")"
   ]
  },
  {
   "cell_type": "markdown",
   "metadata": {},
   "source": [
    "## Task 4\n",
    "\n",
    "Write a Python program that work out the volume and perimeter of a box. Assume the user will enter in whole numbers for height, width, and depth. Your program should output the perimeter 4 * (height + width + depth) and volume (height * width * depth) of the box. Your program should like this when run: "
   ]
  },
  {
   "cell_type": "markdown",
   "metadata": {},
   "source": [
    "### Pseudocode Task4\n",
    "\n",
    "1. We prompt the user to input the height, width, and depth of the box as whole numbers.\n",
    "2. Then, we calculate the perimeter by using the formula 4 * (height + width + depth).\n",
    "3. We also calculate the volume by using the formula height * width * depth.\n",
    "4. Finally, we output both the calculated perimeter and volume to the user."
   ]
  },
  {
   "cell_type": "code",
   "execution_count": 4,
   "metadata": {},
   "outputs": [
    {
     "name": "stdout",
     "output_type": "stream",
     "text": [
      "Enter the height of the box: 12\n",
      "Enter the width of the box: 13\n",
      "Enter the depth of the box: 15\n",
      "The perimeter of the box is: 160\n",
      "The volume of the box is: 2340\n"
     ]
    }
   ],
   "source": [
    "# Input the dimensions of the box as whole numbers\n",
    "height = int(input(\"Enter the height of the box: \"))\n",
    "width = int(input(\"Enter the width of the box: \"))\n",
    "depth = int(input(\"Enter the depth of the box: \"))\n",
    "\n",
    "# Calculate the perimeter and volume\n",
    "perimeter = 4 * (height + width + depth)\n",
    "volume = height * width * depth\n",
    "\n",
    "# Output the results\n",
    "print(f\"The perimeter of the box is: {perimeter}\")\n",
    "print(f\"The volume of the box is: {volume}\")\n"
   ]
  },
  {
   "cell_type": "markdown",
   "metadata": {},
   "source": [
    "## Task 5\n",
    "\n",
    "A company has determined that its annual profit is typically 23% of total sales. Write a program that asks the user to enter the projected amount of total sales, then displays the profit that will be made from that amount (Hint: use the value 0.23 to represent 23%). Your program should look something like this when run: "
   ]
  },
  {
   "cell_type": "markdown",
   "metadata": {},
   "source": [
    "### Pseudocode Task5\n",
    "\n",
    "1. We ask the user to input the projected amount of total sales.\n",
    "2. We use the value 0.23 to represent the profit percentage of 23%.\n",
    "3. We calculate the annual profit by multiplying the total sales by the profit percentage.\n",
    "4. Finally, we output the calculated annual profit to the user."
   ]
  },
  {
   "cell_type": "code",
   "execution_count": 2,
   "metadata": {},
   "outputs": [
    {
     "name": "stdout",
     "output_type": "stream",
     "text": [
      "Enter the projected total sales amount: 200\n",
      "The profit from projected total sales is: £46.00\n"
     ]
    }
   ],
   "source": [
    "# Input the projected total sales\n",
    "total_sales = float(input(\"Enter the projected total sales amount: \"))\n",
    "\n",
    "# Calculate the profit (23% of total sales)\n",
    "profit_percentage = 0.23  # 23% represented as a decimal\n",
    "profit = total_sales * profit_percentage\n",
    "\n",
    "# Display the calculated profit\n",
    "print(f\"The profit from projected total sales is: £{profit:.2f}\")"
   ]
  },
  {
   "cell_type": "markdown",
   "metadata": {},
   "source": [
    "## Task 6\n",
    "\n",
    "Assuming there are no accidents or delays, the distance that a car travels down the motorway can be calculated with the following formula: Distance = Speed x Time Consider that a car is traveling at 60 miles per hour. Write a program that displays the following: a) The distance the car will travel in 5 hours b) The distance the car will travel in 8 hours c) The distance the car will travel in 12 hours Note that a Constant must be used in this program. Your program should look something like this when run: "
   ]
  },
  {
   "cell_type": "markdown",
   "metadata": {},
   "source": [
    "### Pseudocode Task6\n",
    "\n",
    "1. We define a constant named CONSTANT_SPEED with a value of 60 miles per hour, which represents the car's speed.\n",
    "2. We calculate the distances the car will travel in 5 hours, 8 hours, and 12 hours by multiplying the constant speed by the respective time intervals.\n",
    "3. Finally, we display the calculated distances for each time interval to the user."
   ]
  },
  {
   "cell_type": "code",
   "execution_count": 3,
   "metadata": {},
   "outputs": [
    {
     "name": "stdout",
     "output_type": "stream",
     "text": [
      "The car will travel 300 miles in 5 hours.\n",
      "The car will travel 480 miles in 8 hours.\n",
      "The car will travel 720 miles in 12 hours.\n"
     ]
    }
   ],
   "source": [
    "# Define the constant for the speed (in miles per hour)\n",
    "speed = 60\n",
    "\n",
    "# Calculate the distances for different time durations\n",
    "time1 = 5\n",
    "distance1 = speed * time1\n",
    "\n",
    "time2 = 8\n",
    "distance2 = speed * time2\n",
    "\n",
    "time3 = 12\n",
    "distance3 = speed * time3\n",
    "\n",
    "# Display the calculated distances\n",
    "print(f\"The car will travel {distance1} miles in {time1} hours.\")\n",
    "print(f\"The car will travel {distance2} miles in {time2} hours.\")\n",
    "print(f\"The car will travel {distance3} miles in {time3} hours.\")\n"
   ]
  },
  {
   "cell_type": "markdown",
   "metadata": {},
   "source": [
    "## Task 7\n",
    "\n",
    "A car’s miles-per-gallon (MPG) can be calculated with the following formula: MPG = Miles driven / Gallons of fuel used Write a program that asks the user for the number of miles driven and the gallons of fuel used. The program should calculate the car’s MPG and display the result. Your program should look something like this when run: "
   ]
  },
  {
   "cell_type": "markdown",
   "metadata": {},
   "source": [
    "### Pseudocode Task7\n",
    "\n",
    "1. We first ask the user to input the number of miles driven and store it in the variable miles_driven.\n",
    "2. Then, we ask the user to input the gallons of fuel used and store it in the variable gallons_used.\n",
    "3. Next, we calculate the car's MPG by dividing the number of miles driven by the gallons of fuel used.\n",
    "4. Finally, we display the calculated MPG to the user."
   ]
  },
  {
   "cell_type": "code",
   "execution_count": 2,
   "metadata": {},
   "outputs": [
    {
     "name": "stdout",
     "output_type": "stream",
     "text": [
      "Enter the number of miles driven: 55\n",
      "Enter the gallons of fuel used: 50\n",
      "The car's MPG is: 1.10 miles per gallon\n"
     ]
    }
   ],
   "source": [
    "# Input the number of miles driven and gallons of fuel used\n",
    "miles_driven = float(input(\"Enter the number of miles driven: \"))\n",
    "gallons_used = float(input(\"Enter the gallons of fuel used: \"))\n",
    "\n",
    "# Calculate MPG\n",
    "mpg = miles_driven / gallons_used\n",
    "\n",
    "# Display the calculated MPG\n",
    "print(f\"The car's MPG is: {mpg:.2f} miles per gallon\")\n"
   ]
  },
  {
   "cell_type": "markdown",
   "metadata": {},
   "source": [
    "## Advance Task\n",
    "\n",
    "Last month, Lily purchased some stock of MultiplAI Health. Here are the details of the purchase:\n",
    "• The number of shares that Lily purchased was 1,000. \n",
    "• When Lily purchased the stock, she paid £32.87 per share. \n",
    "• Lily paid her stockbroker a commission that amounted to 2% of the amount she paid for the stock. Two weeks later Lily sold the stock. Here are the details of the sale: \n",
    "• The number of shares that Lily sold was 1,000. \n",
    "• She sold the stock for £33.92 per share. \n",
    "• She paid her stockbroker another commission that amounted to 2% of the amount she received for the stock. Write a program that displays the following information (See program design for sample solution, presented below): \n",
    "• The amount of money Lily paid for the stock. \n",
    "• The amount of commission Lily paid her broker when she bought the stock. \n",
    "• The amount that Lily sold the stock for. \n",
    "• The amount of commission Lily paid her broker when she sold the stock. \n",
    "• Display the amount of money that Lily had left when she sold the stock and paid her broker (both times) and indicate if she made a profit in this venture. \n"
   ]
  },
  {
   "cell_type": "markdown",
   "metadata": {},
   "source": [
    "### Advance Task7\n",
    "\n",
    "1. We define constants for the number of shares purchased, purchase price per share, selling price per share, and broker commission rate.\n",
    "2. We calculate the amount paid for the stock, commission when buying, amount received from selling, and commission when selling based on the provided information.\n",
    "3. We calculate the net profit or loss by subtracting expenses from revenue.\n",
    "4. Finally, we display all the financial details and indicate whether Lily made a profit, incurred a loss, or broke even in this venture."
   ]
  },
  {
   "cell_type": "code",
   "execution_count": 1,
   "metadata": {},
   "outputs": [
    {
     "name": "stdout",
     "output_type": "stream",
     "text": [
      "Amount paid for the stock: £32870.00\n",
      "Commission paid when buying the stock: £657.40\n",
      "Amount sold the stock for: £33920.00\n",
      "Commission paid when selling the stock: £678.40\n",
      "Amount left after selling the stock and paying commissions: £-285.80\n",
      "Lily incurred a loss in this venture.\n"
     ]
    }
   ],
   "source": [
    "# Constants\n",
    "shares_purchased = 1000\n",
    "purchase_price_per_share = 32.87\n",
    "purchase_commission_percentage = 0.02\n",
    "sale_price_per_share = 33.92\n",
    "sale_commission_percentage = 0.02\n",
    "\n",
    "# Calculate the amount Lily paid for the stock\n",
    "amount_paid_for_stock = shares_purchased * purchase_price_per_share\n",
    "\n",
    "# Calculate the commission Lily paid when she bought the stock\n",
    "purchase_commission = amount_paid_for_stock * purchase_commission_percentage\n",
    "\n",
    "# Calculate the amount Lily sold the stock for\n",
    "amount_sold_for_stock = shares_purchased * sale_price_per_share\n",
    "\n",
    "# Calculate the commission Lily paid when she sold the stock\n",
    "sale_commission = amount_sold_for_stock * sale_commission_percentage\n",
    "\n",
    "# Calculate the total cost (purchase cost + purchase commission)\n",
    "total_cost = amount_paid_for_stock + purchase_commission\n",
    "\n",
    "# Calculate the total revenue (sale amount - sale commission)\n",
    "total_revenue = amount_sold_for_stock - sale_commission\n",
    "\n",
    "# Calculate the profit (total revenue - total cost)\n",
    "profit = total_revenue - total_cost\n",
    "\n",
    "# Display the results\n",
    "print(f\"Amount paid for the stock: £{amount_paid_for_stock:.2f}\")\n",
    "print(f\"Commission paid when buying the stock: £{purchase_commission:.2f}\")\n",
    "print(f\"Amount sold the stock for: £{amount_sold_for_stock:.2f}\")\n",
    "print(f\"Commission paid when selling the stock: £{sale_commission:.2f}\")\n",
    "print(f\"Amount left after selling the stock and paying commissions: £{profit:.2f}\")\n",
    "\n",
    "# Check if Lily made a profit or incurred a loss\n",
    "if profit > 0:\n",
    "    print(\"Lily made a profit in this venture.\")\n",
    "elif profit < 0:\n",
    "    print(\"Lily incurred a loss in this venture.\")\n",
    "else:\n",
    "    print(\"Lily neither made a profit nor incurred a loss in this venture.\")\n"
   ]
  },
  {
   "cell_type": "markdown",
   "metadata": {},
   "source": [
    "## Resources\n",
    "In addition to the resources mentioned throughout the document, the following might be useful for those with previous experience of Java and .NET \n",
    "\n",
    "Python for Java programmers: <br>\n",
    "https://medium.com/nestedif/cheatsheet-python-for-java-developers-98f75c94a1a <br>\n",
    "https://lobster1234.github.io/2017/05/25/python-java-primer/\n",
    "\n",
    "Python for .NET developers: <br>\n",
    "https://www.wintellect.com/python-jumpstart-for-dot-net-developers/\n"
   ]
  },
  {
   "cell_type": "code",
   "execution_count": null,
   "metadata": {},
   "outputs": [],
   "source": []
  }
 ],
 "metadata": {
  "kernelspec": {
   "display_name": "Python 3 (ipykernel)",
   "language": "python",
   "name": "python3"
  },
  "language_info": {
   "codemirror_mode": {
    "name": "ipython",
    "version": 3
   },
   "file_extension": ".py",
   "mimetype": "text/x-python",
   "name": "python",
   "nbconvert_exporter": "python",
   "pygments_lexer": "ipython3",
   "version": "3.10.9"
  }
 },
 "nbformat": 4,
 "nbformat_minor": 2
}
