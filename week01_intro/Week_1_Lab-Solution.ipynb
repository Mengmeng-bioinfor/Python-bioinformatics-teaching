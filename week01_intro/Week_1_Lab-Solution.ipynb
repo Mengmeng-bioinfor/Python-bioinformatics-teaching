{
 "cells": [
  {
   "cell_type": "markdown",
   "id": "8194d01f",
   "metadata": {},
   "source": [
    "# Week 1\n",
    "\n",
    "# Overview of Python and Jupyter Notebook\n",
    "\n",
    "Hopefully you have already opened this document as a Jupyter Notebook. \n",
    "\n",
    "The Jupyter Notebook App is a tool for creating documents (notebooks) containing both live code and text, as well as visualizations, etc. Various programming languages can be used, but here the focus will be on Python. \n",
    "\n",
    "For more general resources:\n",
    "\n",
    "- Jupyter Notebook - https://jupyter.org/\n",
    "- Anaconda - https://www.anaconda.com/\n",
    "- Python - https://www.python.org/\n",
    "\n",
    "The rest of this notebook is intended as an introduction to key features of Python and Jupyter Notebooks, irrespective of whether you have used Python before or not. It is not intended to be exhaustive, but will cover material that will be relevant in this module. In addition to this material, you are strongly encouarged to develop your knowledge of Python further through the use of other resources such as\n",
    "\n",
    "- The Python tutorial - https://docs.python.org/3/tutorial/\n",
    "\n",
    "Both Python and Jupyter Notebooks are used in various areas, including data science, so it would be well worth your while to develop your skills in this area as much as possible.\n",
    "\n",
    "## Getting started\n",
    "\n",
    "One thing you should do at the outset is to save this noteback as a new notebook, so that you can change it as much as you want, but still go back to the original file if necessary. Go to *File / Make a Copy*. This creates a new notebook called *Week_1_Lab-Copy1* in a file with the same name. You can change the name of the notebook (and the file) by going to *File / Rename* and changing it to *Week_1_Lab_my_version* for example, or by editing the name of the notebook at the top of the page beside the Jupyter symbol (just above the menu).\n",
    "\n",
    "### Cell Types\n",
    "\n",
    "We need to distinguish between different types of cells. This cell is a **Markdown cell**, whereas the next cell below is a **Code cell**. Markdown cells are for formatting text rather than for running code. To see how to format headings, use italics and bold font, for example, you can go into edit mode by double-clicking on a cell. Try it for this cell. To execute the cell (and so produce the formatted text), you can go to *Cell / Run Cells* or use the shortcut *Ctrl-Enter*. (You can find other keyboard shortcuts under the *Help* menu.) Markdown is very useful for mathematical notation such as $\\sqrt{2}$. For further details on Markdown see <a href=\"https://www.datacamp.com/community/tutorials/markdown-in-jupyter-notebook\" >Markdown in Jupyter Notebook</a>.\n",
    "\n",
    "The next cell below is a Code cell. You can also edit and run it as described above, but now it will execute the code and present the output below the cell. \n",
    "\n",
    "Try the print ('Hello World!') below!"
   ]
  },
  {
   "cell_type": "markdown",
   "id": "4242352c",
   "metadata": {},
   "source": [
    "## Advance practice: Using sep and end Parameters (optional)\n",
    "\n",
    "### Exercise: Customizing Print Output\n",
    "\n",
    "By default, print() separates arguments with spaces and ends the line with a newline character. You can modify these using the sep and end parameters.\n",
    "\n",
    "Try to print:\n",
    "\n",
    "Apple, Banana, Cherry\n",
    "End of first line. --- Next line beginsThis is the next line.\n",
    "\n",
    "#### Goal: Understand how to change the separator (sep) between items and the ending character (end).\n",
    "#### Challenge: Print a list of numbers (1-5) separated by dashes and without a newline at the end."
   ]
  },
  {
   "cell_type": "code",
   "execution_count": 8,
   "id": "79b00ad5",
   "metadata": {},
   "outputs": [
    {
     "name": "stdout",
     "output_type": "stream",
     "text": [
      "Apple! Banana! Cherry\n",
      "End of first line. --- Next line beginsThis is the next line.\n"
     ]
    }
   ],
   "source": [
    "# Task: Print a list of items separated by a custom delimiter (e.g., comma, pipe)\n",
    "print(\"Apple\", \"Banana\", \"Cherry\", sep=\"! \")\n",
    "print(\"End of first line.\", end=\" --- Next line begins\")\n",
    "print(\"This is the next line.\")"
   ]
  },
  {
   "cell_type": "markdown",
   "id": "a3f50f6e",
   "metadata": {},
   "source": [
    "## Advance practice: Using f-string for String Interpolation (optional)\n",
    "\n",
    "### Exercise: Advanced String Formatting with f-strings\n",
    "\n",
    "#### Goal: Learn to insert variables and perform calculations inside f-strings.\n",
    "#### Challenge: Print the result of a calculation (e.g., area of a circle) and format the output to 2 decimal places using f-strings."
   ]
  },
  {
   "cell_type": "code",
   "execution_count": 5,
   "id": "b7ad025f",
   "metadata": {},
   "outputs": [
    {
     "name": "stdout",
     "output_type": "stream",
     "text": [
      "Alice is 30 years old and 167.64 cm tall.\n"
     ]
    }
   ],
   "source": [
    "# Task: Use f-strings to print a statement with embedded variables and calculations\n",
    "name = \"Alice\"\n",
    "age = 30\n",
    "height = 5.5\n",
    "print(f\"{name} is {age} years old and {height*30.48:.2f} cm tall.\")\n"
   ]
  },
  {
   "cell_type": "code",
   "execution_count": 1,
   "id": "f1c9571f",
   "metadata": {},
   "outputs": [
    {
     "data": {
      "text/plain": [
       "'The area of the circle with radius 5 is 78.54 square units.'"
      ]
     },
     "execution_count": 1,
     "metadata": {},
     "output_type": "execute_result"
    }
   ],
   "source": [
    "# Manually calculate the area of a circle without using a package\n",
    "\n",
    "# Given radius\n",
    "radius = 5\n",
    "\n",
    "# Approximate value of pi\n",
    "pi = 3.14159\n",
    "\n",
    "# Calculate area of the circle\n",
    "area = pi * radius ** 2\n",
    "\n",
    "# Format the output to 2 decimal places using f-string\n",
    "formatted_area = f\"The area of the circle with radius {radius} is {area:.2f} square units.\"\n",
    "\n",
    "formatted_area"
   ]
  },
  {
   "cell_type": "markdown",
   "id": "d3db456f",
   "metadata": {},
   "source": [
    "## Advance practice: Print Multi-line Strings and Escape Characters  (optional)\n",
    "\n",
    "### Exercise: Working with Multi-line Strings and Escape Characters\n",
    "\n",
    "#### Goal: Understand how to use triple quotes for multi-line strings and handle escape sequences like \\n (newline) and \\t (tab).\n",
    "#### Challenge: Create a formatted multi-line output for a table, using tabs or spaces to align columns."
   ]
  },
  {
   "cell_type": "code",
   "execution_count": 6,
   "id": "bd1136e1",
   "metadata": {},
   "outputs": [
    {
     "name": "stdout",
     "output_type": "stream",
     "text": [
      "This is a multi-line string:\n",
      "Line 1\n",
      "Line 2\n",
      "Line 3\n",
      "This is a tab-separated line:\tItem1\tItem2\tItem3\n",
      "This is a line with a backslash: \\ and a newline character \n",
      "New line starts here.\n"
     ]
    }
   ],
   "source": [
    "# Task: Use triple quotes for multi-line strings and escape sequences for special characters\n",
    "print(\"\"\"This is a multi-line string:\n",
    "Line 1\n",
    "Line 2\n",
    "Line 3\"\"\")\n",
    "\n",
    "# Escape characters example\n",
    "print(\"This is a tab-separated line:\\tItem1\\tItem2\\tItem3\")\n",
    "print(\"This is a line with a backslash: \\\\ and a newline character \\nNew line starts here.\")"
   ]
  },
  {
   "cell_type": "markdown",
   "id": "ae6cb657",
   "metadata": {},
   "source": [
    "## Advance practice: Formatted Output with format() Method  (optional)\n",
    "\n",
    "### Exercise: Advanced Formatting with .format() Method\n",
    "\n",
    "#### Goal: Understand how to use positional, named, and formatted arguments with .format().\n",
    "#### Challenge: Create a formatted string to print a receipt-like output (e.g., items, quantities, and prices)."
   ]
  },
  {
   "cell_type": "code",
   "execution_count": 7,
   "id": "f03ce9bf",
   "metadata": {},
   "outputs": [
    {
     "name": "stdout",
     "output_type": "stream",
     "text": [
      "Hello, Bob! You have 5 new messages.\n",
      "Your order total is: $123.46\n",
      "Coordinates: x=10, y=20\n"
     ]
    }
   ],
   "source": [
    "# Task: Format strings using the .format() method with positional and named arguments\n",
    "print(\"Hello, {0}! You have {1} new messages.\".format(\"Bob\", 5))\n",
    "print(\"Your order total is: ${:.2f}\".format(123.456))\n",
    "print(\"Coordinates: x={x}, y={y}\".format(x=10, y=20))\n"
   ]
  },
  {
   "cell_type": "markdown",
   "id": "1cc22034",
   "metadata": {},
   "source": [
    "## Advance practice: Handling Dynamic Widths with print()  (optional)\n",
    "### Exercise: Dynamic Alignment and Width Control\n",
    "\n",
    "#### Goal: Use formatting options to align and pad strings or numbers.\n",
    "#### Challenge: Print a table of values (e.g., student names and scores) with columns aligned properly using dynamic width."
   ]
  },
  {
   "cell_type": "code",
   "execution_count": null,
   "id": "cb6837ef",
   "metadata": {},
   "outputs": [],
   "source": [
    "# Task: Align numbers and strings with dynamic widths\n",
    "name = \"John\"\n",
    "age = 28\n",
    "print(f\"{'Name':<10}{'Age':>5}\")  # Aligns Name to the left and Age to the right\n",
    "print(f\"{name:<10}{age:>5}\")\n"
   ]
  }
 ],
 "metadata": {
  "kernelspec": {
   "display_name": "Python 3 (ipykernel)",
   "language": "python",
   "name": "python3"
  },
  "language_info": {
   "codemirror_mode": {
    "name": "ipython",
    "version": 3
   },
   "file_extension": ".py",
   "mimetype": "text/x-python",
   "name": "python",
   "nbconvert_exporter": "python",
   "pygments_lexer": "ipython3",
   "version": "3.11.5"
  }
 },
 "nbformat": 4,
 "nbformat_minor": 5
}
